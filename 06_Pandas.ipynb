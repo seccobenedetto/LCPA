{
 "cells": [
  {
   "cell_type": "markdown",
   "metadata": {},
   "source": [
    "# Pandas\n",
    "\n",
    "The `numpy` module is excellent for numerical computations, but to handle missing data or arrays with mixed types takes more work. The `pandas` module is currently the most widely used tool for data manipulation, providing high-performance, easy-to-use data structures and advanced data analysis tools.\n",
    "\n",
    "In particular `pandas` features:\n",
    "\n",
    "* A fast and efficient \"DataFrame\" object for data manipulation with integrated indexing;\n",
    "* Tools for reading and writing data between in-memory data structures and different formats (CSV, Excel, SQL, HDF5);\n",
    "* Intelligent data alignment and integrated handling of missing data;\n",
    "* Intelligent label-based slicing, fancy indexing, and subsetting of large data sets;\n",
    "* Aggregating or transforming data with a powerful \"group-by\" engine; \n",
    "* High performance merging and joining of data sets;\n",
    "* Hierarchical axis indexing provides an intuitive way of working with high-dimensional data in a lower-dimensional data structure;\n",
    "* Time series-functionalities;\n",
    "* Highly optimized for performance, with critical code paths written in Cython or C.\n"
   ]
  },
  {
   "cell_type": "code",
   "execution_count": 2,
   "metadata": {},
   "outputs": [],
   "source": [
    "import pandas as pd\n",
    "import numpy as np"
   ]
  },
  {
   "cell_type": "markdown",
   "metadata": {},
   "source": [
    "## Series\n",
    "\n",
    "Series are completely equivalent to 1D array but with axis labels and the possibility to store heterogeneous elements. Of paramount importance are the time-series, used to define time evolutions of a phenomenon. \n"
   ]
  },
  {
   "cell_type": "code",
   "execution_count": 13,
   "metadata": {},
   "outputs": [
    {
     "name": "stdout",
     "output_type": "stream",
     "text": [
      "xs: \n",
      " a    0.0\n",
      "b    0.5\n",
      "c    1.0\n",
      "d    1.5\n",
      "e    2.0\n",
      "f    2.5\n",
      "g    3.0\n",
      "h    3.5\n",
      "i    4.0\n",
      "j    4.5\n",
      "dtype: float64 \n",
      "\n",
      "xs indexes: Index(['a', 'b', 'c', 'd', 'e', 'f', 'g', 'h', 'i', 'j'], dtype='object') \n",
      "\n",
      "xs values: [0.  0.5 1.  1.5 2.  2.5 3.  3.5 4.  4.5]     type:  <class 'numpy.ndarray'> \n",
      "\n",
      "2.5 2.5 3.5 \n",
      "\n",
      "d    1.5\n",
      "f    2.5\n",
      "h    3.5\n",
      "dtype: float64 \n",
      "\n",
      "<class 'pandas.core.series.Series'> \n",
      "\n"
     ]
    }
   ],
   "source": [
    "from string import ascii_lowercase as letters\n",
    "\n",
    "# Creating a series, accessing indexes, values and values by their index \n",
    "xs = pd.Series(np.arange(10)*0.5, index=tuple(letters[:10]))\n",
    "print (\"xs:\",'\\n', xs,'\\n')\n",
    "print (\"xs indexes:\",xs.index,'\\n')\n",
    "# Values of the Series are actually a numpy array\n",
    "print (\"xs values:\", xs.values, \"    type: \", type(xs.values),'\\n')\n",
    "print (xs['f'], xs.f, xs.h, '\\n')\n",
    "print (xs[['d', 'f', 'h']], '\\n')\n",
    "print (type(xs[['d', 'f', 'h']]), '\\n')"
   ]
  },
  {
   "cell_type": "code",
   "execution_count": 14,
   "metadata": {},
   "outputs": [
    {
     "name": "stdout",
     "output_type": "stream",
     "text": [
      "a    0.0\n",
      "b    0.5\n",
      "c    1.0\n",
      "dtype: float64 \n",
      "\n",
      "h    3.5\n",
      "i    4.0\n",
      "j    4.5\n",
      "dtype: float64 \n",
      "\n",
      "a    0.0\n",
      "d    1.5\n",
      "g    3.0\n",
      "j    4.5\n",
      "dtype: float64 \n",
      "\n",
      "h    3.5\n",
      "i    4.0\n",
      "j    4.5\n",
      "dtype: float64 \n",
      "\n",
      "a     1.000000\n",
      "b     1.648721\n",
      "c     2.718282\n",
      "d     4.481689\n",
      "e     7.389056\n",
      "f    12.182494\n",
      "g    20.085537\n",
      "h    33.115452\n",
      "i    54.598150\n",
      "j    90.017131\n",
      "dtype: float64 \n",
      "\n",
      "2.25 1.4361406616345072 \n",
      "\n"
     ]
    }
   ],
   "source": [
    "# Extracting elements and operations: same as numpy array\n",
    "print (xs[:3],'\\n')\n",
    "print (xs[7:], '\\n')\n",
    "print (xs[::3], '\\n')\n",
    "print (xs[xs>3], '\\n')\n",
    "print (np.exp(xs), '\\n')    # cosi faccio l'esponenziale \n",
    "print (np.mean(xs), np.std(xs), '\\n') # media e deviazione standard"
   ]
  },
  {
   "cell_type": "code",
   "execution_count": 15,
   "metadata": {},
   "outputs": [
    {
     "data": {
      "text/plain": [
       "b         1\n",
       "a       cat\n",
       "c    [2, 3]\n",
       "dtype: object"
      ]
     },
     "execution_count": 15,
     "metadata": {},
     "output_type": "execute_result"
    }
   ],
   "source": [
    "# Series can be created from python dictionary too.\n",
    "# Not that the elements can be whatever!\n",
    "d = {'b' : 1, 'a' : 'cat', 'c' : [2,3]}\n",
    "pd.Series(d)"
   ]
  },
  {
   "cell_type": "markdown",
   "metadata": {},
   "source": [
    "A key difference between Series and ndarray is that operations between Series automatically align the data based on label. Thus, you can write computations without considering whether the Series involved have the same labels."
   ]
  },
  {
   "cell_type": "code",
   "execution_count": 5,
   "metadata": {},
   "outputs": [
    {
     "name": "stdout",
     "output_type": "stream",
     "text": [
      "a    0.461620\n",
      "b   -1.052333\n",
      "c   -0.478107\n",
      "d   -1.246040\n",
      "e   -1.112543\n",
      "dtype: float64\n",
      "a         NaN\n",
      "b   -2.104667\n",
      "c   -0.956215\n",
      "d   -2.492080\n",
      "e         NaN\n",
      "dtype: float64\n"
     ]
    }
   ],
   "source": [
    "s = pd.Series(np.random.randn(5), index=tuple(letters[:5]))\n",
    "print(s)\n",
    "s = s[1:] + s[:-1]\n",
    "print(s)"
   ]
  },
  {
   "cell_type": "markdown",
   "metadata": {},
   "source": [
    "### Time series\n",
    "\n",
    "Time series are very often used to profile the behaviour of a quantity as a function of time. Pandas has a special index for that, `DatetimeIndex`, that can be created e.g. with the function `pd.data_range()`"
   ]
  },
  {
   "cell_type": "code",
   "execution_count": 16,
   "metadata": {},
   "outputs": [
    {
     "name": "stdout",
     "output_type": "stream",
     "text": [
      "2024-11-28\n",
      "2024-11-27 10:45:10.000015\n",
      "27/11/2024 10:45:00\n",
      "DatetimeIndex(['2024-11-27 10:45:00', '2024-11-28 10:45:00',\n",
      "               '2024-11-29 10:45:00', '2024-11-30 10:45:00',\n",
      "               '2024-12-01 10:45:00', '2024-12-02 10:45:00',\n",
      "               '2024-12-03 10:45:00'],\n",
      "              dtype='datetime64[ns]', freq='D')\n",
      "DatetimeIndex(['2024-11-27 10:45:00', '2024-11-27 10:45:01',\n",
      "               '2024-11-27 10:45:02', '2024-11-27 10:45:03',\n",
      "               '2024-11-27 10:45:04', '2024-11-27 10:45:05',\n",
      "               '2024-11-27 10:45:06', '2024-11-27 10:45:07',\n",
      "               '2024-11-27 10:45:08', '2024-11-27 10:45:09',\n",
      "               ...\n",
      "               '2024-11-27 11:44:50', '2024-11-27 11:44:51',\n",
      "               '2024-11-27 11:44:52', '2024-11-27 11:44:53',\n",
      "               '2024-11-27 11:44:54', '2024-11-27 11:44:55',\n",
      "               '2024-11-27 11:44:56', '2024-11-27 11:44:57',\n",
      "               '2024-11-27 11:44:58', '2024-11-27 11:44:59'],\n",
      "              dtype='datetime64[ns]', length=3600, freq='s')\n"
     ]
    }
   ],
   "source": [
    "# to define a date, the datetime module is very useful\n",
    "import datetime as dt\n",
    "date = dt.date.today()\n",
    "print(date)\n",
    "\n",
    "date = dt.datetime(2024,11,27,10,45,10,15)\n",
    "print (date)\n",
    "\n",
    "# otherwise, several notations are interpreted too\n",
    "date = 'Nov 27 2024'\n",
    "# or alternatively\n",
    "date = '27/11/2024 10:45:00'\n",
    "print (date)\n",
    "\n",
    "days = pd.date_range(date, periods=7, freq='D')\n",
    "print (days)\n",
    "\n",
    "seconds = pd.date_range(date, periods=3600, freq='s')\n",
    "print (seconds)\n"
   ]
  },
  {
   "cell_type": "markdown",
   "metadata": {},
   "source": [
    "To learn more about the frequency strings, please see this [link](http://pandas.pydata.org/pandas-docs/stable/timeseries.html#offset-aliases)\n",
    "\n",
    "\n",
    "Timestamped data is the most basic type of time series data that associates values with points in time. For pandas objects it means using the points in time.\n",
    "\n",
    "functions like `pd.to_datetime` can be used, for instance, when reading information as string from a dataset.\n",
    "\n",
    "Timestamp is the pandas equivalent of python’s Datetime and is interchangeable with it in most cases. "
   ]
  },
  {
   "cell_type": "code",
   "execution_count": 17,
   "metadata": {},
   "outputs": [
    {
     "name": "stdout",
     "output_type": "stream",
     "text": [
      "1604880000000000000\n",
      "<class 'pandas._libs.tslibs.timestamps.Timestamp'>\n",
      "1289520000000000000\n",
      "2010-11-12 00:00:00\n",
      "1289520000000000000\n"
     ]
    }
   ],
   "source": [
    "tstamp = pd.Timestamp(dt.datetime(2020, 11, 9))\n",
    "\n",
    "# internally it counts the nanoseconds from January 1st 19\n",
    "#tstamp = pd.Timestamp(dt.datetime(1970, 1, 1, 0, 0, 0, 1))\n",
    "print(tstamp.value)\n",
    "\n",
    "# when creating a timestamp the format can be explicitly passed\n",
    "ts = pd.to_datetime('2010/11/12', format='%Y/%m/%d')\n",
    "print (type(ts))\n",
    "print (ts.value)\n",
    "ts = pd.to_datetime('12-11-2010 00:00', format='%d-%m-%Y %H:%M')\n",
    "print (ts)\n",
    "print (ts.value)\n",
    "\n"
   ]
  },
  {
   "cell_type": "markdown",
   "metadata": {},
   "source": [
    "A standard series can be created and (range of) elements can be used as indexes"
   ]
  },
  {
   "cell_type": "code",
   "execution_count": null,
   "metadata": {
    "scrolled": true
   },
   "outputs": [],
   "source": [
    "tseries = pd.Series(np.random.normal(10, 1, len(days)), index=days)\n",
    "# Extracting elements\n",
    "print (tseries[0:4], '\\n')\n",
    "print (tseries['2024-11-27':'2024-12-03'], '\\n') # Note - includes end time\n"
   ]
  },
  {
   "cell_type": "markdown",
   "metadata": {},
   "source": [
    "`pd.to_datetime` can also be used to create a `DatetimeIndex`:"
   ]
  },
  {
   "cell_type": "code",
   "execution_count": null,
   "metadata": {},
   "outputs": [],
   "source": [
    "pd.to_datetime([1, 2, 3, 4], unit='D', origin=pd.Timestamp('1980-02-03'))"
   ]
  },
  {
   "cell_type": "markdown",
   "metadata": {},
   "source": [
    "## DataFrame\n",
    "\n",
    "A pandas DataFrame is like a simple tabular spreadsheet. For future reference (or for people already familiar with R), a pandas DataFrame is very similar to the R DataFrame.\n",
    "\n",
    "Each column in a DataFrame is a Series object.\n",
    "\n",
    "The element can be whatever, missing data are dealt with too (as NaN)"
   ]
  },
  {
   "cell_type": "markdown",
   "metadata": {},
   "source": [
    "### DataFrame creation\n",
    "\n",
    "A DataFrame can be created implicitly, with, e.g., a DatatimeIndex object as index:"
   ]
  },
  {
   "cell_type": "code",
   "execution_count": 18,
   "metadata": {},
   "outputs": [
    {
     "data": {
      "text/html": [
       "<div>\n",
       "<style scoped>\n",
       "    .dataframe tbody tr th:only-of-type {\n",
       "        vertical-align: middle;\n",
       "    }\n",
       "\n",
       "    .dataframe tbody tr th {\n",
       "        vertical-align: top;\n",
       "    }\n",
       "\n",
       "    .dataframe thead th {\n",
       "        text-align: right;\n",
       "    }\n",
       "</style>\n",
       "<table border=\"1\" class=\"dataframe\">\n",
       "  <thead>\n",
       "    <tr style=\"text-align: right;\">\n",
       "      <th></th>\n",
       "      <th>A</th>\n",
       "      <th>B</th>\n",
       "      <th>C</th>\n",
       "      <th>D</th>\n",
       "    </tr>\n",
       "  </thead>\n",
       "  <tbody>\n",
       "    <tr>\n",
       "      <th>2024-11-27 10:45:00</th>\n",
       "      <td>-1.502442</td>\n",
       "      <td>-1.930493</td>\n",
       "      <td>0.800647</td>\n",
       "      <td>1.187644</td>\n",
       "    </tr>\n",
       "    <tr>\n",
       "      <th>2024-11-27 11:45:00</th>\n",
       "      <td>-1.871342</td>\n",
       "      <td>1.087881</td>\n",
       "      <td>-0.029531</td>\n",
       "      <td>0.655412</td>\n",
       "    </tr>\n",
       "    <tr>\n",
       "      <th>2024-11-27 12:45:00</th>\n",
       "      <td>0.775551</td>\n",
       "      <td>-1.404067</td>\n",
       "      <td>-0.609133</td>\n",
       "      <td>-0.093443</td>\n",
       "    </tr>\n",
       "    <tr>\n",
       "      <th>2024-11-27 13:45:00</th>\n",
       "      <td>-1.810837</td>\n",
       "      <td>0.338586</td>\n",
       "      <td>1.472593</td>\n",
       "      <td>-0.155294</td>\n",
       "    </tr>\n",
       "    <tr>\n",
       "      <th>2024-11-27 14:45:00</th>\n",
       "      <td>-0.428878</td>\n",
       "      <td>0.370274</td>\n",
       "      <td>-0.272185</td>\n",
       "      <td>1.690103</td>\n",
       "    </tr>\n",
       "    <tr>\n",
       "      <th>2024-11-27 15:45:00</th>\n",
       "      <td>-0.743899</td>\n",
       "      <td>0.098606</td>\n",
       "      <td>-1.440938</td>\n",
       "      <td>0.569603</td>\n",
       "    </tr>\n",
       "    <tr>\n",
       "      <th>2024-11-27 16:45:00</th>\n",
       "      <td>-0.600792</td>\n",
       "      <td>0.947123</td>\n",
       "      <td>-0.573333</td>\n",
       "      <td>-0.325389</td>\n",
       "    </tr>\n",
       "    <tr>\n",
       "      <th>2024-11-27 17:45:00</th>\n",
       "      <td>-0.403121</td>\n",
       "      <td>-0.584159</td>\n",
       "      <td>-0.576201</td>\n",
       "      <td>-0.541504</td>\n",
       "    </tr>\n",
       "    <tr>\n",
       "      <th>2024-11-27 18:45:00</th>\n",
       "      <td>0.288932</td>\n",
       "      <td>0.855065</td>\n",
       "      <td>0.144270</td>\n",
       "      <td>0.627850</td>\n",
       "    </tr>\n",
       "    <tr>\n",
       "      <th>2024-11-27 19:45:00</th>\n",
       "      <td>0.571135</td>\n",
       "      <td>-0.085261</td>\n",
       "      <td>0.144002</td>\n",
       "      <td>0.675072</td>\n",
       "    </tr>\n",
       "  </tbody>\n",
       "</table>\n",
       "</div>"
      ],
      "text/plain": [
       "                            A         B         C         D\n",
       "2024-11-27 10:45:00 -1.502442 -1.930493  0.800647  1.187644\n",
       "2024-11-27 11:45:00 -1.871342  1.087881 -0.029531  0.655412\n",
       "2024-11-27 12:45:00  0.775551 -1.404067 -0.609133 -0.093443\n",
       "2024-11-27 13:45:00 -1.810837  0.338586  1.472593 -0.155294\n",
       "2024-11-27 14:45:00 -0.428878  0.370274 -0.272185  1.690103\n",
       "2024-11-27 15:45:00 -0.743899  0.098606 -1.440938  0.569603\n",
       "2024-11-27 16:45:00 -0.600792  0.947123 -0.573333 -0.325389\n",
       "2024-11-27 17:45:00 -0.403121 -0.584159 -0.576201 -0.541504\n",
       "2024-11-27 18:45:00  0.288932  0.855065  0.144270  0.627850\n",
       "2024-11-27 19:45:00  0.571135 -0.085261  0.144002  0.675072"
      ]
     },
     "execution_count": 18,
     "metadata": {},
     "output_type": "execute_result"
    }
   ],
   "source": [
    "entries=10\n",
    "dates=pd.date_range('11/27/2024 10:45:00',freq='h', periods=entries)\n",
    "df = pd.DataFrame(np.random.randn(entries,4), index=dates, columns=['A','B','C','D'])\n",
    "df\n"
   ]
  },
  {
   "cell_type": "markdown",
   "metadata": {},
   "source": [
    "or by means of a dictionary:\n"
   ]
  },
  {
   "cell_type": "code",
   "execution_count": 19,
   "metadata": {},
   "outputs": [
    {
     "data": {
      "text/html": [
       "<div>\n",
       "<style scoped>\n",
       "    .dataframe tbody tr th:only-of-type {\n",
       "        vertical-align: middle;\n",
       "    }\n",
       "\n",
       "    .dataframe tbody tr th {\n",
       "        vertical-align: top;\n",
       "    }\n",
       "\n",
       "    .dataframe thead th {\n",
       "        text-align: right;\n",
       "    }\n",
       "</style>\n",
       "<table border=\"1\" class=\"dataframe\">\n",
       "  <thead>\n",
       "    <tr style=\"text-align: right;\">\n",
       "      <th></th>\n",
       "      <th>A</th>\n",
       "      <th>B</th>\n",
       "      <th>C</th>\n",
       "      <th>D</th>\n",
       "      <th>E</th>\n",
       "    </tr>\n",
       "  </thead>\n",
       "  <tbody>\n",
       "    <tr>\n",
       "      <th>0</th>\n",
       "      <td>1.0</td>\n",
       "      <td>2013-01-02</td>\n",
       "      <td>1.0</td>\n",
       "      <td>7</td>\n",
       "      <td>test</td>\n",
       "    </tr>\n",
       "    <tr>\n",
       "      <th>1</th>\n",
       "      <td>1.0</td>\n",
       "      <td>2013-01-02</td>\n",
       "      <td>1.0</td>\n",
       "      <td>8</td>\n",
       "      <td>train</td>\n",
       "    </tr>\n",
       "    <tr>\n",
       "      <th>2</th>\n",
       "      <td>1.0</td>\n",
       "      <td>2013-01-02</td>\n",
       "      <td>1.0</td>\n",
       "      <td>9</td>\n",
       "      <td>test</td>\n",
       "    </tr>\n",
       "    <tr>\n",
       "      <th>3</th>\n",
       "      <td>1.0</td>\n",
       "      <td>2013-01-02</td>\n",
       "      <td>1.0</td>\n",
       "      <td>10</td>\n",
       "      <td>train</td>\n",
       "    </tr>\n",
       "  </tbody>\n",
       "</table>\n",
       "</div>"
      ],
      "text/plain": [
       "     A          B    C   D      E\n",
       "0  1.0 2013-01-02  1.0   7   test\n",
       "1  1.0 2013-01-02  1.0   8  train\n",
       "2  1.0 2013-01-02  1.0   9   test\n",
       "3  1.0 2013-01-02  1.0  10  train"
      ]
     },
     "execution_count": 19,
     "metadata": {},
     "output_type": "execute_result"
    }
   ],
   "source": [
    "df2 = pd.DataFrame(\n",
    "    { 'A' : 1.,\n",
    "      'B' : pd.Timestamp('20130102'),\n",
    "      'C' : pd.Series(1,index=range(4),dtype='float32'),\n",
    "      'D' : np.arange(7,11),\n",
    "      'E' : pd.Categorical([\"test\",\"train\",\"test\",\"train\"]),\n",
    "    }\n",
    "    )\n",
    "df2\n",
    "\n",
    "# check what happens if D and E had different lenghts "
   ]
  },
  {
   "cell_type": "markdown",
   "metadata": {},
   "source": [
    "### Viewing Data"
   ]
  },
  {
   "cell_type": "code",
   "execution_count": 20,
   "metadata": {},
   "outputs": [
    {
     "data": {
      "text/html": [
       "<div>\n",
       "<style scoped>\n",
       "    .dataframe tbody tr th:only-of-type {\n",
       "        vertical-align: middle;\n",
       "    }\n",
       "\n",
       "    .dataframe tbody tr th {\n",
       "        vertical-align: top;\n",
       "    }\n",
       "\n",
       "    .dataframe thead th {\n",
       "        text-align: right;\n",
       "    }\n",
       "</style>\n",
       "<table border=\"1\" class=\"dataframe\">\n",
       "  <thead>\n",
       "    <tr style=\"text-align: right;\">\n",
       "      <th></th>\n",
       "      <th>A</th>\n",
       "      <th>B</th>\n",
       "      <th>C</th>\n",
       "      <th>D</th>\n",
       "    </tr>\n",
       "  </thead>\n",
       "  <tbody>\n",
       "    <tr>\n",
       "      <th>2024-11-27 10:45:00</th>\n",
       "      <td>-1.502442</td>\n",
       "      <td>-1.930493</td>\n",
       "      <td>0.800647</td>\n",
       "      <td>1.187644</td>\n",
       "    </tr>\n",
       "    <tr>\n",
       "      <th>2024-11-27 11:45:00</th>\n",
       "      <td>-1.871342</td>\n",
       "      <td>1.087881</td>\n",
       "      <td>-0.029531</td>\n",
       "      <td>0.655412</td>\n",
       "    </tr>\n",
       "  </tbody>\n",
       "</table>\n",
       "</div>"
      ],
      "text/plain": [
       "                            A         B         C         D\n",
       "2024-11-27 10:45:00 -1.502442 -1.930493  0.800647  1.187644\n",
       "2024-11-27 11:45:00 -1.871342  1.087881 -0.029531  0.655412"
      ]
     },
     "execution_count": 20,
     "metadata": {},
     "output_type": "execute_result"
    }
   ],
   "source": [
    "df.head(2)"
   ]
  },
  {
   "cell_type": "code",
   "execution_count": 21,
   "metadata": {},
   "outputs": [
    {
     "data": {
      "text/html": [
       "<div>\n",
       "<style scoped>\n",
       "    .dataframe tbody tr th:only-of-type {\n",
       "        vertical-align: middle;\n",
       "    }\n",
       "\n",
       "    .dataframe tbody tr th {\n",
       "        vertical-align: top;\n",
       "    }\n",
       "\n",
       "    .dataframe thead th {\n",
       "        text-align: right;\n",
       "    }\n",
       "</style>\n",
       "<table border=\"1\" class=\"dataframe\">\n",
       "  <thead>\n",
       "    <tr style=\"text-align: right;\">\n",
       "      <th></th>\n",
       "      <th>A</th>\n",
       "      <th>B</th>\n",
       "      <th>C</th>\n",
       "      <th>D</th>\n",
       "    </tr>\n",
       "  </thead>\n",
       "  <tbody>\n",
       "    <tr>\n",
       "      <th>2024-11-27 16:45:00</th>\n",
       "      <td>-0.600792</td>\n",
       "      <td>0.947123</td>\n",
       "      <td>-0.573333</td>\n",
       "      <td>-0.325389</td>\n",
       "    </tr>\n",
       "    <tr>\n",
       "      <th>2024-11-27 17:45:00</th>\n",
       "      <td>-0.403121</td>\n",
       "      <td>-0.584159</td>\n",
       "      <td>-0.576201</td>\n",
       "      <td>-0.541504</td>\n",
       "    </tr>\n",
       "    <tr>\n",
       "      <th>2024-11-27 18:45:00</th>\n",
       "      <td>0.288932</td>\n",
       "      <td>0.855065</td>\n",
       "      <td>0.144270</td>\n",
       "      <td>0.627850</td>\n",
       "    </tr>\n",
       "    <tr>\n",
       "      <th>2024-11-27 19:45:00</th>\n",
       "      <td>0.571135</td>\n",
       "      <td>-0.085261</td>\n",
       "      <td>0.144002</td>\n",
       "      <td>0.675072</td>\n",
       "    </tr>\n",
       "  </tbody>\n",
       "</table>\n",
       "</div>"
      ],
      "text/plain": [
       "                            A         B         C         D\n",
       "2024-11-27 16:45:00 -0.600792  0.947123 -0.573333 -0.325389\n",
       "2024-11-27 17:45:00 -0.403121 -0.584159 -0.576201 -0.541504\n",
       "2024-11-27 18:45:00  0.288932  0.855065  0.144270  0.627850\n",
       "2024-11-27 19:45:00  0.571135 -0.085261  0.144002  0.675072"
      ]
     },
     "execution_count": 21,
     "metadata": {},
     "output_type": "execute_result"
    }
   ],
   "source": [
    "df.tail(4)"
   ]
  },
  {
   "cell_type": "code",
   "execution_count": 22,
   "metadata": {},
   "outputs": [
    {
     "data": {
      "text/plain": [
       "DatetimeIndex(['2024-11-27 10:45:00', '2024-11-27 11:45:00',\n",
       "               '2024-11-27 12:45:00', '2024-11-27 13:45:00',\n",
       "               '2024-11-27 14:45:00', '2024-11-27 15:45:00',\n",
       "               '2024-11-27 16:45:00', '2024-11-27 17:45:00',\n",
       "               '2024-11-27 18:45:00', '2024-11-27 19:45:00'],\n",
       "              dtype='datetime64[ns]', freq='h')"
      ]
     },
     "execution_count": 22,
     "metadata": {},
     "output_type": "execute_result"
    }
   ],
   "source": [
    "df.index"
   ]
  },
  {
   "cell_type": "code",
   "execution_count": 23,
   "metadata": {},
   "outputs": [
    {
     "data": {
      "text/plain": [
       "Index(['A', 'B', 'C', 'D'], dtype='object')"
      ]
     },
     "execution_count": 23,
     "metadata": {},
     "output_type": "execute_result"
    }
   ],
   "source": [
    "df.columns"
   ]
  },
  {
   "cell_type": "code",
   "execution_count": 24,
   "metadata": {},
   "outputs": [
    {
     "data": {
      "text/plain": [
       "array([[-1.50244201, -1.93049345,  0.8006466 ,  1.18764361],\n",
       "       [-1.87134213,  1.08788121, -0.02953131,  0.65541213],\n",
       "       [ 0.77555134, -1.40406713, -0.60913313, -0.09344317],\n",
       "       [-1.81083698,  0.33858569,  1.47259298, -0.15529367],\n",
       "       [-0.42887791,  0.3702744 , -0.27218527,  1.690103  ],\n",
       "       [-0.74389882,  0.09860633, -1.44093767,  0.56960276],\n",
       "       [-0.60079244,  0.94712293, -0.57333281, -0.32538861],\n",
       "       [-0.40312148, -0.5841588 , -0.57620065, -0.54150449],\n",
       "       [ 0.28893199,  0.85506479,  0.14426955,  0.62784993],\n",
       "       [ 0.57113458, -0.08526065,  0.14400233,  0.67507156]])"
      ]
     },
     "execution_count": 24,
     "metadata": {},
     "output_type": "execute_result"
    }
   ],
   "source": [
    "df.values"
   ]
  },
  {
   "cell_type": "code",
   "execution_count": 25,
   "metadata": {},
   "outputs": [
    {
     "data": {
      "text/html": [
       "<div>\n",
       "<style scoped>\n",
       "    .dataframe tbody tr th:only-of-type {\n",
       "        vertical-align: middle;\n",
       "    }\n",
       "\n",
       "    .dataframe tbody tr th {\n",
       "        vertical-align: top;\n",
       "    }\n",
       "\n",
       "    .dataframe thead th {\n",
       "        text-align: right;\n",
       "    }\n",
       "</style>\n",
       "<table border=\"1\" class=\"dataframe\">\n",
       "  <thead>\n",
       "    <tr style=\"text-align: right;\">\n",
       "      <th></th>\n",
       "      <th>A</th>\n",
       "      <th>B</th>\n",
       "      <th>C</th>\n",
       "      <th>D</th>\n",
       "    </tr>\n",
       "  </thead>\n",
       "  <tbody>\n",
       "    <tr>\n",
       "      <th>count</th>\n",
       "      <td>10.000000</td>\n",
       "      <td>10.000000</td>\n",
       "      <td>10.000000</td>\n",
       "      <td>10.000000</td>\n",
       "    </tr>\n",
       "    <tr>\n",
       "      <th>mean</th>\n",
       "      <td>-0.572569</td>\n",
       "      <td>-0.030644</td>\n",
       "      <td>-0.093981</td>\n",
       "      <td>0.429005</td>\n",
       "    </tr>\n",
       "    <tr>\n",
       "      <th>std</th>\n",
       "      <td>0.944691</td>\n",
       "      <td>1.006118</td>\n",
       "      <td>0.812801</td>\n",
       "      <td>0.704144</td>\n",
       "    </tr>\n",
       "    <tr>\n",
       "      <th>min</th>\n",
       "      <td>-1.871342</td>\n",
       "      <td>-1.930493</td>\n",
       "      <td>-1.440938</td>\n",
       "      <td>-0.541504</td>\n",
       "    </tr>\n",
       "    <tr>\n",
       "      <th>25%</th>\n",
       "      <td>-1.312806</td>\n",
       "      <td>-0.459434</td>\n",
       "      <td>-0.575484</td>\n",
       "      <td>-0.139831</td>\n",
       "    </tr>\n",
       "    <tr>\n",
       "      <th>50%</th>\n",
       "      <td>-0.514835</td>\n",
       "      <td>0.218596</td>\n",
       "      <td>-0.150858</td>\n",
       "      <td>0.598726</td>\n",
       "    </tr>\n",
       "    <tr>\n",
       "      <th>75%</th>\n",
       "      <td>0.115919</td>\n",
       "      <td>0.733867</td>\n",
       "      <td>0.144203</td>\n",
       "      <td>0.670157</td>\n",
       "    </tr>\n",
       "    <tr>\n",
       "      <th>max</th>\n",
       "      <td>0.775551</td>\n",
       "      <td>1.087881</td>\n",
       "      <td>1.472593</td>\n",
       "      <td>1.690103</td>\n",
       "    </tr>\n",
       "  </tbody>\n",
       "</table>\n",
       "</div>"
      ],
      "text/plain": [
       "               A          B          C          D\n",
       "count  10.000000  10.000000  10.000000  10.000000\n",
       "mean   -0.572569  -0.030644  -0.093981   0.429005\n",
       "std     0.944691   1.006118   0.812801   0.704144\n",
       "min    -1.871342  -1.930493  -1.440938  -0.541504\n",
       "25%    -1.312806  -0.459434  -0.575484  -0.139831\n",
       "50%    -0.514835   0.218596  -0.150858   0.598726\n",
       "75%     0.115919   0.733867   0.144203   0.670157\n",
       "max     0.775551   1.087881   1.472593   1.690103"
      ]
     },
     "execution_count": 25,
     "metadata": {},
     "output_type": "execute_result"
    }
   ],
   "source": [
    "df.describe()"
   ]
  },
  {
   "cell_type": "code",
   "execution_count": 26,
   "metadata": {},
   "outputs": [
    {
     "data": {
      "text/html": [
       "<div>\n",
       "<style scoped>\n",
       "    .dataframe tbody tr th:only-of-type {\n",
       "        vertical-align: middle;\n",
       "    }\n",
       "\n",
       "    .dataframe tbody tr th {\n",
       "        vertical-align: top;\n",
       "    }\n",
       "\n",
       "    .dataframe thead th {\n",
       "        text-align: right;\n",
       "    }\n",
       "</style>\n",
       "<table border=\"1\" class=\"dataframe\">\n",
       "  <thead>\n",
       "    <tr style=\"text-align: right;\">\n",
       "      <th></th>\n",
       "      <th>2024-11-27 10:45:00</th>\n",
       "      <th>2024-11-27 11:45:00</th>\n",
       "      <th>2024-11-27 12:45:00</th>\n",
       "      <th>2024-11-27 13:45:00</th>\n",
       "      <th>2024-11-27 14:45:00</th>\n",
       "      <th>2024-11-27 15:45:00</th>\n",
       "      <th>2024-11-27 16:45:00</th>\n",
       "      <th>2024-11-27 17:45:00</th>\n",
       "      <th>2024-11-27 18:45:00</th>\n",
       "      <th>2024-11-27 19:45:00</th>\n",
       "    </tr>\n",
       "  </thead>\n",
       "  <tbody>\n",
       "    <tr>\n",
       "      <th>A</th>\n",
       "      <td>-1.502442</td>\n",
       "      <td>-1.871342</td>\n",
       "      <td>0.775551</td>\n",
       "      <td>-1.810837</td>\n",
       "      <td>-0.428878</td>\n",
       "      <td>-0.743899</td>\n",
       "      <td>-0.600792</td>\n",
       "      <td>-0.403121</td>\n",
       "      <td>0.288932</td>\n",
       "      <td>0.571135</td>\n",
       "    </tr>\n",
       "    <tr>\n",
       "      <th>B</th>\n",
       "      <td>-1.930493</td>\n",
       "      <td>1.087881</td>\n",
       "      <td>-1.404067</td>\n",
       "      <td>0.338586</td>\n",
       "      <td>0.370274</td>\n",
       "      <td>0.098606</td>\n",
       "      <td>0.947123</td>\n",
       "      <td>-0.584159</td>\n",
       "      <td>0.855065</td>\n",
       "      <td>-0.085261</td>\n",
       "    </tr>\n",
       "    <tr>\n",
       "      <th>C</th>\n",
       "      <td>0.800647</td>\n",
       "      <td>-0.029531</td>\n",
       "      <td>-0.609133</td>\n",
       "      <td>1.472593</td>\n",
       "      <td>-0.272185</td>\n",
       "      <td>-1.440938</td>\n",
       "      <td>-0.573333</td>\n",
       "      <td>-0.576201</td>\n",
       "      <td>0.144270</td>\n",
       "      <td>0.144002</td>\n",
       "    </tr>\n",
       "    <tr>\n",
       "      <th>D</th>\n",
       "      <td>1.187644</td>\n",
       "      <td>0.655412</td>\n",
       "      <td>-0.093443</td>\n",
       "      <td>-0.155294</td>\n",
       "      <td>1.690103</td>\n",
       "      <td>0.569603</td>\n",
       "      <td>-0.325389</td>\n",
       "      <td>-0.541504</td>\n",
       "      <td>0.627850</td>\n",
       "      <td>0.675072</td>\n",
       "    </tr>\n",
       "  </tbody>\n",
       "</table>\n",
       "</div>"
      ],
      "text/plain": [
       "   2024-11-27 10:45:00  2024-11-27 11:45:00  2024-11-27 12:45:00  \\\n",
       "A            -1.502442            -1.871342             0.775551   \n",
       "B            -1.930493             1.087881            -1.404067   \n",
       "C             0.800647            -0.029531            -0.609133   \n",
       "D             1.187644             0.655412            -0.093443   \n",
       "\n",
       "   2024-11-27 13:45:00  2024-11-27 14:45:00  2024-11-27 15:45:00  \\\n",
       "A            -1.810837            -0.428878            -0.743899   \n",
       "B             0.338586             0.370274             0.098606   \n",
       "C             1.472593            -0.272185            -1.440938   \n",
       "D            -0.155294             1.690103             0.569603   \n",
       "\n",
       "   2024-11-27 16:45:00  2024-11-27 17:45:00  2024-11-27 18:45:00  \\\n",
       "A            -0.600792            -0.403121             0.288932   \n",
       "B             0.947123            -0.584159             0.855065   \n",
       "C            -0.573333            -0.576201             0.144270   \n",
       "D            -0.325389            -0.541504             0.627850   \n",
       "\n",
       "   2024-11-27 19:45:00  \n",
       "A             0.571135  \n",
       "B            -0.085261  \n",
       "C             0.144002  \n",
       "D             0.675072  "
      ]
     },
     "execution_count": 26,
     "metadata": {},
     "output_type": "execute_result"
    }
   ],
   "source": [
    "df.T"
   ]
  },
  {
   "cell_type": "code",
   "execution_count": 29,
   "metadata": {},
   "outputs": [
    {
     "data": {
      "text/html": [
       "<div>\n",
       "<style scoped>\n",
       "    .dataframe tbody tr th:only-of-type {\n",
       "        vertical-align: middle;\n",
       "    }\n",
       "\n",
       "    .dataframe tbody tr th {\n",
       "        vertical-align: top;\n",
       "    }\n",
       "\n",
       "    .dataframe thead th {\n",
       "        text-align: right;\n",
       "    }\n",
       "</style>\n",
       "<table border=\"1\" class=\"dataframe\">\n",
       "  <thead>\n",
       "    <tr style=\"text-align: right;\">\n",
       "      <th></th>\n",
       "      <th>A</th>\n",
       "      <th>B</th>\n",
       "      <th>C</th>\n",
       "      <th>D</th>\n",
       "    </tr>\n",
       "  </thead>\n",
       "  <tbody>\n",
       "    <tr>\n",
       "      <th>2024-11-27 19:45:00</th>\n",
       "      <td>0.571135</td>\n",
       "      <td>-0.085261</td>\n",
       "      <td>0.144002</td>\n",
       "      <td>0.675072</td>\n",
       "    </tr>\n",
       "    <tr>\n",
       "      <th>2024-11-27 18:45:00</th>\n",
       "      <td>0.288932</td>\n",
       "      <td>0.855065</td>\n",
       "      <td>0.144270</td>\n",
       "      <td>0.627850</td>\n",
       "    </tr>\n",
       "    <tr>\n",
       "      <th>2024-11-27 17:45:00</th>\n",
       "      <td>-0.403121</td>\n",
       "      <td>-0.584159</td>\n",
       "      <td>-0.576201</td>\n",
       "      <td>-0.541504</td>\n",
       "    </tr>\n",
       "    <tr>\n",
       "      <th>2024-11-27 16:45:00</th>\n",
       "      <td>-0.600792</td>\n",
       "      <td>0.947123</td>\n",
       "      <td>-0.573333</td>\n",
       "      <td>-0.325389</td>\n",
       "    </tr>\n",
       "    <tr>\n",
       "      <th>2024-11-27 15:45:00</th>\n",
       "      <td>-0.743899</td>\n",
       "      <td>0.098606</td>\n",
       "      <td>-1.440938</td>\n",
       "      <td>0.569603</td>\n",
       "    </tr>\n",
       "    <tr>\n",
       "      <th>2024-11-27 14:45:00</th>\n",
       "      <td>-0.428878</td>\n",
       "      <td>0.370274</td>\n",
       "      <td>-0.272185</td>\n",
       "      <td>1.690103</td>\n",
       "    </tr>\n",
       "    <tr>\n",
       "      <th>2024-11-27 13:45:00</th>\n",
       "      <td>-1.810837</td>\n",
       "      <td>0.338586</td>\n",
       "      <td>1.472593</td>\n",
       "      <td>-0.155294</td>\n",
       "    </tr>\n",
       "    <tr>\n",
       "      <th>2024-11-27 12:45:00</th>\n",
       "      <td>0.775551</td>\n",
       "      <td>-1.404067</td>\n",
       "      <td>-0.609133</td>\n",
       "      <td>-0.093443</td>\n",
       "    </tr>\n",
       "    <tr>\n",
       "      <th>2024-11-27 11:45:00</th>\n",
       "      <td>-1.871342</td>\n",
       "      <td>1.087881</td>\n",
       "      <td>-0.029531</td>\n",
       "      <td>0.655412</td>\n",
       "    </tr>\n",
       "    <tr>\n",
       "      <th>2024-11-27 10:45:00</th>\n",
       "      <td>-1.502442</td>\n",
       "      <td>-1.930493</td>\n",
       "      <td>0.800647</td>\n",
       "      <td>1.187644</td>\n",
       "    </tr>\n",
       "  </tbody>\n",
       "</table>\n",
       "</div>"
      ],
      "text/plain": [
       "                            A         B         C         D\n",
       "2024-11-27 19:45:00  0.571135 -0.085261  0.144002  0.675072\n",
       "2024-11-27 18:45:00  0.288932  0.855065  0.144270  0.627850\n",
       "2024-11-27 17:45:00 -0.403121 -0.584159 -0.576201 -0.541504\n",
       "2024-11-27 16:45:00 -0.600792  0.947123 -0.573333 -0.325389\n",
       "2024-11-27 15:45:00 -0.743899  0.098606 -1.440938  0.569603\n",
       "2024-11-27 14:45:00 -0.428878  0.370274 -0.272185  1.690103\n",
       "2024-11-27 13:45:00 -1.810837  0.338586  1.472593 -0.155294\n",
       "2024-11-27 12:45:00  0.775551 -1.404067 -0.609133 -0.093443\n",
       "2024-11-27 11:45:00 -1.871342  1.087881 -0.029531  0.655412\n",
       "2024-11-27 10:45:00 -1.502442 -1.930493  0.800647  1.187644"
      ]
     },
     "execution_count": 29,
     "metadata": {},
     "output_type": "execute_result"
    }
   ],
   "source": [
    "df.sort_index(axis=0,ascending=False)"
   ]
  },
  {
   "cell_type": "code",
   "execution_count": 28,
   "metadata": {},
   "outputs": [
    {
     "data": {
      "text/html": [
       "<div>\n",
       "<style scoped>\n",
       "    .dataframe tbody tr th:only-of-type {\n",
       "        vertical-align: middle;\n",
       "    }\n",
       "\n",
       "    .dataframe tbody tr th {\n",
       "        vertical-align: top;\n",
       "    }\n",
       "\n",
       "    .dataframe thead th {\n",
       "        text-align: right;\n",
       "    }\n",
       "</style>\n",
       "<table border=\"1\" class=\"dataframe\">\n",
       "  <thead>\n",
       "    <tr style=\"text-align: right;\">\n",
       "      <th></th>\n",
       "      <th>A</th>\n",
       "      <th>B</th>\n",
       "      <th>C</th>\n",
       "      <th>D</th>\n",
       "    </tr>\n",
       "  </thead>\n",
       "  <tbody>\n",
       "    <tr>\n",
       "      <th>2024-11-27 15:45:00</th>\n",
       "      <td>-0.743899</td>\n",
       "      <td>0.098606</td>\n",
       "      <td>-1.440938</td>\n",
       "      <td>0.569603</td>\n",
       "    </tr>\n",
       "    <tr>\n",
       "      <th>2024-11-27 12:45:00</th>\n",
       "      <td>0.775551</td>\n",
       "      <td>-1.404067</td>\n",
       "      <td>-0.609133</td>\n",
       "      <td>-0.093443</td>\n",
       "    </tr>\n",
       "    <tr>\n",
       "      <th>2024-11-27 17:45:00</th>\n",
       "      <td>-0.403121</td>\n",
       "      <td>-0.584159</td>\n",
       "      <td>-0.576201</td>\n",
       "      <td>-0.541504</td>\n",
       "    </tr>\n",
       "    <tr>\n",
       "      <th>2024-11-27 16:45:00</th>\n",
       "      <td>-0.600792</td>\n",
       "      <td>0.947123</td>\n",
       "      <td>-0.573333</td>\n",
       "      <td>-0.325389</td>\n",
       "    </tr>\n",
       "    <tr>\n",
       "      <th>2024-11-27 14:45:00</th>\n",
       "      <td>-0.428878</td>\n",
       "      <td>0.370274</td>\n",
       "      <td>-0.272185</td>\n",
       "      <td>1.690103</td>\n",
       "    </tr>\n",
       "    <tr>\n",
       "      <th>2024-11-27 11:45:00</th>\n",
       "      <td>-1.871342</td>\n",
       "      <td>1.087881</td>\n",
       "      <td>-0.029531</td>\n",
       "      <td>0.655412</td>\n",
       "    </tr>\n",
       "    <tr>\n",
       "      <th>2024-11-27 19:45:00</th>\n",
       "      <td>0.571135</td>\n",
       "      <td>-0.085261</td>\n",
       "      <td>0.144002</td>\n",
       "      <td>0.675072</td>\n",
       "    </tr>\n",
       "    <tr>\n",
       "      <th>2024-11-27 18:45:00</th>\n",
       "      <td>0.288932</td>\n",
       "      <td>0.855065</td>\n",
       "      <td>0.144270</td>\n",
       "      <td>0.627850</td>\n",
       "    </tr>\n",
       "    <tr>\n",
       "      <th>2024-11-27 10:45:00</th>\n",
       "      <td>-1.502442</td>\n",
       "      <td>-1.930493</td>\n",
       "      <td>0.800647</td>\n",
       "      <td>1.187644</td>\n",
       "    </tr>\n",
       "    <tr>\n",
       "      <th>2024-11-27 13:45:00</th>\n",
       "      <td>-1.810837</td>\n",
       "      <td>0.338586</td>\n",
       "      <td>1.472593</td>\n",
       "      <td>-0.155294</td>\n",
       "    </tr>\n",
       "  </tbody>\n",
       "</table>\n",
       "</div>"
      ],
      "text/plain": [
       "                            A         B         C         D\n",
       "2024-11-27 15:45:00 -0.743899  0.098606 -1.440938  0.569603\n",
       "2024-11-27 12:45:00  0.775551 -1.404067 -0.609133 -0.093443\n",
       "2024-11-27 17:45:00 -0.403121 -0.584159 -0.576201 -0.541504\n",
       "2024-11-27 16:45:00 -0.600792  0.947123 -0.573333 -0.325389\n",
       "2024-11-27 14:45:00 -0.428878  0.370274 -0.272185  1.690103\n",
       "2024-11-27 11:45:00 -1.871342  1.087881 -0.029531  0.655412\n",
       "2024-11-27 19:45:00  0.571135 -0.085261  0.144002  0.675072\n",
       "2024-11-27 18:45:00  0.288932  0.855065  0.144270  0.627850\n",
       "2024-11-27 10:45:00 -1.502442 -1.930493  0.800647  1.187644\n",
       "2024-11-27 13:45:00 -1.810837  0.338586  1.472593 -0.155294"
      ]
     },
     "execution_count": 28,
     "metadata": {},
     "output_type": "execute_result"
    }
   ],
   "source": [
    "df.sort_values(by=\"C\")"
   ]
  },
  {
   "cell_type": "markdown",
   "metadata": {},
   "source": [
    "## Selection\n",
    "\n",
    "### Getting slices\n",
    "\n",
    "The following show how to get part of the DataFrame (i.e. not just the elements)"
   ]
  },
  {
   "cell_type": "code",
   "execution_count": 32,
   "metadata": {},
   "outputs": [
    {
     "name": "stdout",
     "output_type": "stream",
     "text": [
      "2024-11-27 10:45:00   -1.502442\n",
      "2024-11-27 11:45:00   -1.871342\n",
      "2024-11-27 12:45:00    0.775551\n",
      "2024-11-27 13:45:00   -1.810837\n",
      "2024-11-27 14:45:00   -0.428878\n",
      "2024-11-27 15:45:00   -0.743899\n",
      "2024-11-27 16:45:00   -0.600792\n",
      "2024-11-27 17:45:00   -0.403121\n",
      "2024-11-27 18:45:00    0.288932\n",
      "2024-11-27 19:45:00    0.571135\n",
      "Freq: h, Name: A, dtype: float64 \n",
      "\n",
      "2024-11-27 10:45:00   -1.502442\n",
      "2024-11-27 11:45:00   -1.871342\n",
      "2024-11-27 12:45:00    0.775551\n",
      "2024-11-27 13:45:00   -1.810837\n",
      "2024-11-27 14:45:00   -0.428878\n",
      "2024-11-27 15:45:00   -0.743899\n",
      "2024-11-27 16:45:00   -0.600792\n",
      "2024-11-27 17:45:00   -0.403121\n",
      "2024-11-27 18:45:00    0.288932\n",
      "2024-11-27 19:45:00    0.571135\n",
      "Freq: h, Name: A, dtype: float64\n"
     ]
    }
   ],
   "source": [
    "## standard and safe\n",
    "print (df['A'],'\\n')   # colonna 'A'\n",
    "\n",
    "## equivalent but dangerous (imagine blank spaces in the name of the column..)\n",
    "print (df.A)"
   ]
  },
  {
   "cell_type": "code",
   "execution_count": 39,
   "metadata": {},
   "outputs": [
    {
     "name": "stdout",
     "output_type": "stream",
     "text": [
      "                            A         B         C         D\n",
      "2024-11-27 10:45:00 -1.502442 -1.930493  0.800647  1.187644\n",
      "2024-11-27 11:45:00 -1.871342  1.087881 -0.029531  0.655412\n",
      "2024-11-27 12:45:00  0.775551 -1.404067 -0.609133 -0.093443\n",
      "                            A         B         C         D\n",
      "2024-11-27 10:45:00 -1.502442 -1.930493  0.800647  1.187644\n",
      "2024-11-27 11:45:00 -1.871342  1.087881 -0.029531  0.655412\n",
      "2024-11-27 12:45:00  0.775551 -1.404067 -0.609133 -0.093443\n"
     ]
    }
   ],
   "source": [
    "# selecting rows by counting\n",
    "print (df[0:3])\n",
    "\n",
    "# or by index\n",
    "print (df[\"2024-11-27 10:45:00\":\"2024-11-27 12:45:00\"])"
   ]
  },
  {
   "cell_type": "markdown",
   "metadata": {},
   "source": [
    "### Selection by label"
   ]
  },
  {
   "cell_type": "code",
   "execution_count": 37,
   "metadata": {},
   "outputs": [
    {
     "data": {
      "text/plain": [
       "A   -1.502442\n",
       "B   -1.930493\n",
       "C    0.800647\n",
       "D    1.187644\n",
       "Name: 2024-11-27 10:45:00, dtype: float64"
      ]
     },
     "execution_count": 37,
     "metadata": {},
     "output_type": "execute_result"
    }
   ],
   "source": [
    "# getting a cross section (part of the DataFrame) using a label\n",
    "df.loc[dates[0]]  # mi restituisce le caselle con lo stesso indice (cioe insomma una riga)"
   ]
  },
  {
   "cell_type": "code",
   "execution_count": 34,
   "metadata": {},
   "outputs": [
    {
     "data": {
      "text/html": [
       "<div>\n",
       "<style scoped>\n",
       "    .dataframe tbody tr th:only-of-type {\n",
       "        vertical-align: middle;\n",
       "    }\n",
       "\n",
       "    .dataframe tbody tr th {\n",
       "        vertical-align: top;\n",
       "    }\n",
       "\n",
       "    .dataframe thead th {\n",
       "        text-align: right;\n",
       "    }\n",
       "</style>\n",
       "<table border=\"1\" class=\"dataframe\">\n",
       "  <thead>\n",
       "    <tr style=\"text-align: right;\">\n",
       "      <th></th>\n",
       "      <th>A</th>\n",
       "      <th>B</th>\n",
       "    </tr>\n",
       "  </thead>\n",
       "  <tbody>\n",
       "    <tr>\n",
       "      <th>2024-11-27 10:45:00</th>\n",
       "      <td>-1.502442</td>\n",
       "      <td>-1.930493</td>\n",
       "    </tr>\n",
       "    <tr>\n",
       "      <th>2024-11-27 11:45:00</th>\n",
       "      <td>-1.871342</td>\n",
       "      <td>1.087881</td>\n",
       "    </tr>\n",
       "    <tr>\n",
       "      <th>2024-11-27 12:45:00</th>\n",
       "      <td>0.775551</td>\n",
       "      <td>-1.404067</td>\n",
       "    </tr>\n",
       "    <tr>\n",
       "      <th>2024-11-27 13:45:00</th>\n",
       "      <td>-1.810837</td>\n",
       "      <td>0.338586</td>\n",
       "    </tr>\n",
       "    <tr>\n",
       "      <th>2024-11-27 14:45:00</th>\n",
       "      <td>-0.428878</td>\n",
       "      <td>0.370274</td>\n",
       "    </tr>\n",
       "    <tr>\n",
       "      <th>2024-11-27 15:45:00</th>\n",
       "      <td>-0.743899</td>\n",
       "      <td>0.098606</td>\n",
       "    </tr>\n",
       "    <tr>\n",
       "      <th>2024-11-27 16:45:00</th>\n",
       "      <td>-0.600792</td>\n",
       "      <td>0.947123</td>\n",
       "    </tr>\n",
       "    <tr>\n",
       "      <th>2024-11-27 17:45:00</th>\n",
       "      <td>-0.403121</td>\n",
       "      <td>-0.584159</td>\n",
       "    </tr>\n",
       "    <tr>\n",
       "      <th>2024-11-27 18:45:00</th>\n",
       "      <td>0.288932</td>\n",
       "      <td>0.855065</td>\n",
       "    </tr>\n",
       "    <tr>\n",
       "      <th>2024-11-27 19:45:00</th>\n",
       "      <td>0.571135</td>\n",
       "      <td>-0.085261</td>\n",
       "    </tr>\n",
       "  </tbody>\n",
       "</table>\n",
       "</div>"
      ],
      "text/plain": [
       "                            A         B\n",
       "2024-11-27 10:45:00 -1.502442 -1.930493\n",
       "2024-11-27 11:45:00 -1.871342  1.087881\n",
       "2024-11-27 12:45:00  0.775551 -1.404067\n",
       "2024-11-27 13:45:00 -1.810837  0.338586\n",
       "2024-11-27 14:45:00 -0.428878  0.370274\n",
       "2024-11-27 15:45:00 -0.743899  0.098606\n",
       "2024-11-27 16:45:00 -0.600792  0.947123\n",
       "2024-11-27 17:45:00 -0.403121 -0.584159\n",
       "2024-11-27 18:45:00  0.288932  0.855065\n",
       "2024-11-27 19:45:00  0.571135 -0.085261"
      ]
     },
     "execution_count": 34,
     "metadata": {},
     "output_type": "execute_result"
    }
   ],
   "source": [
    "# selecting on a multi-axis by label:\n",
    "df.loc[:,['A','B']]\n",
    "#a=df.loc[:,['A','B']]"
   ]
  },
  {
   "cell_type": "code",
   "execution_count": 35,
   "metadata": {},
   "outputs": [
    {
     "data": {
      "text/html": [
       "<div>\n",
       "<style scoped>\n",
       "    .dataframe tbody tr th:only-of-type {\n",
       "        vertical-align: middle;\n",
       "    }\n",
       "\n",
       "    .dataframe tbody tr th {\n",
       "        vertical-align: top;\n",
       "    }\n",
       "\n",
       "    .dataframe thead th {\n",
       "        text-align: right;\n",
       "    }\n",
       "</style>\n",
       "<table border=\"1\" class=\"dataframe\">\n",
       "  <thead>\n",
       "    <tr style=\"text-align: right;\">\n",
       "      <th></th>\n",
       "      <th>A</th>\n",
       "      <th>B</th>\n",
       "    </tr>\n",
       "  </thead>\n",
       "  <tbody>\n",
       "    <tr>\n",
       "      <th>2024-11-27 14:45:00</th>\n",
       "      <td>-0.428878</td>\n",
       "      <td>0.370274</td>\n",
       "    </tr>\n",
       "    <tr>\n",
       "      <th>2024-11-27 15:45:00</th>\n",
       "      <td>-0.743899</td>\n",
       "      <td>0.098606</td>\n",
       "    </tr>\n",
       "    <tr>\n",
       "      <th>2024-11-27 16:45:00</th>\n",
       "      <td>-0.600792</td>\n",
       "      <td>0.947123</td>\n",
       "    </tr>\n",
       "  </tbody>\n",
       "</table>\n",
       "</div>"
      ],
      "text/plain": [
       "                            A         B\n",
       "2024-11-27 14:45:00 -0.428878  0.370274\n",
       "2024-11-27 15:45:00 -0.743899  0.098606\n",
       "2024-11-27 16:45:00 -0.600792  0.947123"
      ]
     },
     "execution_count": 35,
     "metadata": {},
     "output_type": "execute_result"
    }
   ],
   "source": [
    "# showing label slicing, both endpoints are included:\n",
    "df.loc['2024-11-27 14:45:00':'2024-11-27 16:45:00',['A','B']]"
   ]
  },
  {
   "cell_type": "code",
   "execution_count": 36,
   "metadata": {},
   "outputs": [
    {
     "name": "stdout",
     "output_type": "stream",
     "text": [
      "-1.8713421348580621\n",
      "-1.8713421348580621\n"
     ]
    }
   ],
   "source": [
    "# getting an individual element\n",
    "print (df.loc[dates[1],'A'])\n",
    "\n",
    "# equivalently\n",
    "print (df.at[dates[1],'A'])"
   ]
  },
  {
   "cell_type": "markdown",
   "metadata": {},
   "source": [
    "### Selecting by position"
   ]
  },
  {
   "cell_type": "code",
   "execution_count": 40,
   "metadata": {},
   "outputs": [
    {
     "name": "stdout",
     "output_type": "stream",
     "text": [
      "A   -1.810837\n",
      "B    0.338586\n",
      "C    1.472593\n",
      "D   -0.155294\n",
      "Name: 2024-11-27 13:45:00, dtype: float64 \n",
      "\n",
      "                            A         B\n",
      "2024-11-27 13:45:00 -1.810837  0.338586\n",
      "2024-11-27 14:45:00 -0.428878  0.370274\n"
     ]
    }
   ],
   "source": [
    "# select via the position of the passed integers:\n",
    "print (df.iloc[3],'\\n')\n",
    "\n",
    "# notation similar to numpy/python\n",
    "print (df.iloc[3:5,0:2])"
   ]
  },
  {
   "cell_type": "code",
   "execution_count": 44,
   "metadata": {},
   "outputs": [
    {
     "data": {
      "text/html": [
       "<div>\n",
       "<style scoped>\n",
       "    .dataframe tbody tr th:only-of-type {\n",
       "        vertical-align: middle;\n",
       "    }\n",
       "\n",
       "    .dataframe tbody tr th {\n",
       "        vertical-align: top;\n",
       "    }\n",
       "\n",
       "    .dataframe thead th {\n",
       "        text-align: right;\n",
       "    }\n",
       "</style>\n",
       "<table border=\"1\" class=\"dataframe\">\n",
       "  <thead>\n",
       "    <tr style=\"text-align: right;\">\n",
       "      <th></th>\n",
       "      <th>A</th>\n",
       "      <th>C</th>\n",
       "    </tr>\n",
       "  </thead>\n",
       "  <tbody>\n",
       "    <tr>\n",
       "      <th>2024-11-27 11:45:00</th>\n",
       "      <td>-1.871342</td>\n",
       "      <td>-0.029531</td>\n",
       "    </tr>\n",
       "    <tr>\n",
       "      <th>2024-11-27 12:45:00</th>\n",
       "      <td>0.775551</td>\n",
       "      <td>-0.609133</td>\n",
       "    </tr>\n",
       "    <tr>\n",
       "      <th>2024-11-27 14:45:00</th>\n",
       "      <td>-0.428878</td>\n",
       "      <td>-0.272185</td>\n",
       "    </tr>\n",
       "  </tbody>\n",
       "</table>\n",
       "</div>"
      ],
      "text/plain": [
       "                            A         C\n",
       "2024-11-27 11:45:00 -1.871342 -0.029531\n",
       "2024-11-27 12:45:00  0.775551 -0.609133\n",
       "2024-11-27 14:45:00 -0.428878 -0.272185"
      ]
     },
     "execution_count": 44,
     "metadata": {},
     "output_type": "execute_result"
    }
   ],
   "source": [
    "# selecting rows 1,2 and 4 for columns 0 and 2\n",
    "df.iloc[[1,2,4],[0,2]]"
   ]
  },
  {
   "cell_type": "code",
   "execution_count": 45,
   "metadata": {},
   "outputs": [
    {
     "name": "stdout",
     "output_type": "stream",
     "text": [
      "                            A         B         C         D\n",
      "2024-11-27 11:45:00 -1.871342  1.087881 -0.029531  0.655412\n",
      "2024-11-27 12:45:00  0.775551 -1.404067 -0.609133 -0.093443 \n",
      "\n",
      "                            B         C\n",
      "2024-11-27 10:45:00 -1.930493  0.800647\n",
      "2024-11-27 11:45:00  1.087881 -0.029531\n",
      "2024-11-27 12:45:00 -1.404067 -0.609133\n",
      "2024-11-27 13:45:00  0.338586  1.472593\n",
      "2024-11-27 14:45:00  0.370274 -0.272185\n",
      "2024-11-27 15:45:00  0.098606 -1.440938\n",
      "2024-11-27 16:45:00  0.947123 -0.573333\n",
      "2024-11-27 17:45:00 -0.584159 -0.576201\n",
      "2024-11-27 18:45:00  0.855065  0.144270\n",
      "2024-11-27 19:45:00 -0.085261  0.144002 \n",
      "\n",
      "1.0878812079225548\n"
     ]
    }
   ],
   "source": [
    "# slicing rows explicitly\n",
    "print (df.iloc[1:3,:],'\\n')\n",
    "\n",
    "# slicing columns explicitly\n",
    "print (df.iloc[:,1:3], '\\n')\n",
    "\n",
    "# selecting an individual element by position\n",
    "print(df.iloc[1,1])"
   ]
  },
  {
   "cell_type": "markdown",
   "metadata": {},
   "source": [
    "### Boolean index\n",
    "\n",
    "Very powerful way of filtering out data with certain features. Notation is very similar to numpy arrays."
   ]
  },
  {
   "cell_type": "code",
   "execution_count": 48,
   "metadata": {},
   "outputs": [
    {
     "data": {
      "text/html": [
       "<div>\n",
       "<style scoped>\n",
       "    .dataframe tbody tr th:only-of-type {\n",
       "        vertical-align: middle;\n",
       "    }\n",
       "\n",
       "    .dataframe tbody tr th {\n",
       "        vertical-align: top;\n",
       "    }\n",
       "\n",
       "    .dataframe thead th {\n",
       "        text-align: right;\n",
       "    }\n",
       "</style>\n",
       "<table border=\"1\" class=\"dataframe\">\n",
       "  <thead>\n",
       "    <tr style=\"text-align: right;\">\n",
       "      <th></th>\n",
       "      <th>A</th>\n",
       "      <th>B</th>\n",
       "      <th>C</th>\n",
       "      <th>D</th>\n",
       "    </tr>\n",
       "  </thead>\n",
       "  <tbody>\n",
       "    <tr>\n",
       "      <th>2024-11-27 11:45:00</th>\n",
       "      <td>-1.871342</td>\n",
       "      <td>1.087881</td>\n",
       "      <td>-0.029531</td>\n",
       "      <td>0.655412</td>\n",
       "    </tr>\n",
       "    <tr>\n",
       "      <th>2024-11-27 13:45:00</th>\n",
       "      <td>-1.810837</td>\n",
       "      <td>0.338586</td>\n",
       "      <td>1.472593</td>\n",
       "      <td>-0.155294</td>\n",
       "    </tr>\n",
       "    <tr>\n",
       "      <th>2024-11-27 14:45:00</th>\n",
       "      <td>-0.428878</td>\n",
       "      <td>0.370274</td>\n",
       "      <td>-0.272185</td>\n",
       "      <td>1.690103</td>\n",
       "    </tr>\n",
       "    <tr>\n",
       "      <th>2024-11-27 15:45:00</th>\n",
       "      <td>-0.743899</td>\n",
       "      <td>0.098606</td>\n",
       "      <td>-1.440938</td>\n",
       "      <td>0.569603</td>\n",
       "    </tr>\n",
       "    <tr>\n",
       "      <th>2024-11-27 16:45:00</th>\n",
       "      <td>-0.600792</td>\n",
       "      <td>0.947123</td>\n",
       "      <td>-0.573333</td>\n",
       "      <td>-0.325389</td>\n",
       "    </tr>\n",
       "    <tr>\n",
       "      <th>2024-11-27 18:45:00</th>\n",
       "      <td>0.288932</td>\n",
       "      <td>0.855065</td>\n",
       "      <td>0.144270</td>\n",
       "      <td>0.627850</td>\n",
       "    </tr>\n",
       "  </tbody>\n",
       "</table>\n",
       "</div>"
      ],
      "text/plain": [
       "                            A         B         C         D\n",
       "2024-11-27 11:45:00 -1.871342  1.087881 -0.029531  0.655412\n",
       "2024-11-27 13:45:00 -1.810837  0.338586  1.472593 -0.155294\n",
       "2024-11-27 14:45:00 -0.428878  0.370274 -0.272185  1.690103\n",
       "2024-11-27 15:45:00 -0.743899  0.098606 -1.440938  0.569603\n",
       "2024-11-27 16:45:00 -0.600792  0.947123 -0.573333 -0.325389\n",
       "2024-11-27 18:45:00  0.288932  0.855065  0.144270  0.627850"
      ]
     },
     "execution_count": 48,
     "metadata": {},
     "output_type": "execute_result"
    }
   ],
   "source": [
    "# Filter by a boolean condition on the values of a single column\n",
    "df[df['B'] > 0]   # it prints only the rows where the element on column B is positive"
   ]
  },
  {
   "cell_type": "code",
   "execution_count": 47,
   "metadata": {},
   "outputs": [
    {
     "data": {
      "text/html": [
       "<div>\n",
       "<style scoped>\n",
       "    .dataframe tbody tr th:only-of-type {\n",
       "        vertical-align: middle;\n",
       "    }\n",
       "\n",
       "    .dataframe tbody tr th {\n",
       "        vertical-align: top;\n",
       "    }\n",
       "\n",
       "    .dataframe thead th {\n",
       "        text-align: right;\n",
       "    }\n",
       "</style>\n",
       "<table border=\"1\" class=\"dataframe\">\n",
       "  <thead>\n",
       "    <tr style=\"text-align: right;\">\n",
       "      <th></th>\n",
       "      <th>A</th>\n",
       "      <th>B</th>\n",
       "      <th>C</th>\n",
       "      <th>D</th>\n",
       "    </tr>\n",
       "  </thead>\n",
       "  <tbody>\n",
       "    <tr>\n",
       "      <th>2024-11-27 10:45:00</th>\n",
       "      <td>NaN</td>\n",
       "      <td>NaN</td>\n",
       "      <td>0.800647</td>\n",
       "      <td>1.187644</td>\n",
       "    </tr>\n",
       "    <tr>\n",
       "      <th>2024-11-27 11:45:00</th>\n",
       "      <td>NaN</td>\n",
       "      <td>1.087881</td>\n",
       "      <td>NaN</td>\n",
       "      <td>0.655412</td>\n",
       "    </tr>\n",
       "    <tr>\n",
       "      <th>2024-11-27 12:45:00</th>\n",
       "      <td>0.775551</td>\n",
       "      <td>NaN</td>\n",
       "      <td>NaN</td>\n",
       "      <td>NaN</td>\n",
       "    </tr>\n",
       "    <tr>\n",
       "      <th>2024-11-27 13:45:00</th>\n",
       "      <td>NaN</td>\n",
       "      <td>0.338586</td>\n",
       "      <td>1.472593</td>\n",
       "      <td>NaN</td>\n",
       "    </tr>\n",
       "    <tr>\n",
       "      <th>2024-11-27 14:45:00</th>\n",
       "      <td>NaN</td>\n",
       "      <td>0.370274</td>\n",
       "      <td>NaN</td>\n",
       "      <td>1.690103</td>\n",
       "    </tr>\n",
       "    <tr>\n",
       "      <th>2024-11-27 15:45:00</th>\n",
       "      <td>NaN</td>\n",
       "      <td>0.098606</td>\n",
       "      <td>NaN</td>\n",
       "      <td>0.569603</td>\n",
       "    </tr>\n",
       "    <tr>\n",
       "      <th>2024-11-27 16:45:00</th>\n",
       "      <td>NaN</td>\n",
       "      <td>0.947123</td>\n",
       "      <td>NaN</td>\n",
       "      <td>NaN</td>\n",
       "    </tr>\n",
       "    <tr>\n",
       "      <th>2024-11-27 17:45:00</th>\n",
       "      <td>NaN</td>\n",
       "      <td>NaN</td>\n",
       "      <td>NaN</td>\n",
       "      <td>NaN</td>\n",
       "    </tr>\n",
       "    <tr>\n",
       "      <th>2024-11-27 18:45:00</th>\n",
       "      <td>0.288932</td>\n",
       "      <td>0.855065</td>\n",
       "      <td>0.144270</td>\n",
       "      <td>0.627850</td>\n",
       "    </tr>\n",
       "    <tr>\n",
       "      <th>2024-11-27 19:45:00</th>\n",
       "      <td>0.571135</td>\n",
       "      <td>NaN</td>\n",
       "      <td>0.144002</td>\n",
       "      <td>0.675072</td>\n",
       "    </tr>\n",
       "  </tbody>\n",
       "</table>\n",
       "</div>"
      ],
      "text/plain": [
       "                            A         B         C         D\n",
       "2024-11-27 10:45:00       NaN       NaN  0.800647  1.187644\n",
       "2024-11-27 11:45:00       NaN  1.087881       NaN  0.655412\n",
       "2024-11-27 12:45:00  0.775551       NaN       NaN       NaN\n",
       "2024-11-27 13:45:00       NaN  0.338586  1.472593       NaN\n",
       "2024-11-27 14:45:00       NaN  0.370274       NaN  1.690103\n",
       "2024-11-27 15:45:00       NaN  0.098606       NaN  0.569603\n",
       "2024-11-27 16:45:00       NaN  0.947123       NaN       NaN\n",
       "2024-11-27 17:45:00       NaN       NaN       NaN       NaN\n",
       "2024-11-27 18:45:00  0.288932  0.855065  0.144270  0.627850\n",
       "2024-11-27 19:45:00  0.571135       NaN  0.144002  0.675072"
      ]
     },
     "execution_count": 47,
     "metadata": {},
     "output_type": "execute_result"
    }
   ],
   "source": [
    "# Selecting on the basis of boolean conditions applied to the whole DataFrame\n",
    "df[df>0]\n",
    "\n",
    "# a DataFrame with the same shape is returned, with NaN's where condition is not met"
   ]
  },
  {
   "cell_type": "markdown",
   "metadata": {},
   "source": [
    "### Setting\n",
    "\n",
    "Combination of selection and setting of values"
   ]
  },
  {
   "cell_type": "code",
   "execution_count": null,
   "metadata": {},
   "outputs": [],
   "source": [
    "# setting values by label (same as by position)\n",
    "df.at[dates[0],'A'] = 0\n",
    "\n",
    "# setting and assigning a numpy array\n",
    "df.loc[:,'D'] = np.array([5] * len(df))\n",
    "\n",
    "# defining a brend new column\n",
    "df['E'] = np.arange(len(df))*0.5\n",
    "\n",
    "# defining a brend new column by means of a pd.Series: indexes must be the same!\n",
    "df['E prime'] = pd.Series(np.arange(len(df))*2, index=df.index)\n",
    "\n",
    "df"
   ]
  },
  {
   "cell_type": "code",
   "execution_count": null,
   "metadata": {},
   "outputs": [],
   "source": [
    "def dcos(theta):\n",
    "    theta = theta*(np.pi/180)\n",
    "    return np.cos(theta)\n",
    " \n",
    "df['cosine'] = pd.Series(df[\"E\"].apply(dcos), index=df.index)\n",
    "df"
   ]
  },
  {
   "cell_type": "code",
   "execution_count": null,
   "metadata": {},
   "outputs": [],
   "source": [
    "# another example of global setting\n",
    "df2=df.copy()\n",
    "\n",
    "df2[df2>0] = -df2\n",
    "df2"
   ]
  },
  {
   "cell_type": "markdown",
   "metadata": {},
   "source": [
    "### Are you dealing with a Copy or a View?\n",
    "\n",
    "In general is hard to tell.."
   ]
  },
  {
   "cell_type": "code",
   "execution_count": null,
   "metadata": {},
   "outputs": [],
   "source": [
    "dfd = pd.DataFrame({'a': [1, 2, 3], 'b': [4, 5, 6]})\n",
    "\n",
    "# This is likely a view\n",
    "subset = dfd.loc[0:1, 'a']  \n",
    "subset[0] = 100  # May affect `df`\n",
    "\n",
    "print (dfd)\n",
    "\n",
    "# This is a copy\n",
    "subset = dfd.loc[[0, 1], 'a']  \n",
    "subset[0] = 200  # Does NOT affect `df`\n",
    "\n",
    "print (dfd)\n",
    "\n"
   ]
  },
  {
   "cell_type": "markdown",
   "metadata": {},
   "source": [
    "The behaviour depend on the version of Pandas and on the version of Numpy that given version of Pandas depends upon. Since Pandas 1.5 \"Copy-on-Write\" (CoW) is (optionally) available and as of Pandas 3.0 will be the default. \n",
    "\n",
    "With CoW chained assignemt will never work; in the following example, the view `df[\"foo\"]` and `df` itself are modified in one step. This will lead to a `ChainedAssignemntError`  "
   ]
  },
  {
   "cell_type": "code",
   "execution_count": null,
   "metadata": {},
   "outputs": [],
   "source": [
    "dfd[\"a\"][dfd[\"b\"] > 5] = 100\n",
    "dfd"
   ]
  },
  {
   "cell_type": "markdown",
   "metadata": {},
   "source": [
    "With copy on write this can be done by using `loc`"
   ]
  },
  {
   "cell_type": "code",
   "execution_count": null,
   "metadata": {},
   "outputs": [],
   "source": [
    "dfd.loc[dfd[\"b\"] > 5, \"a\"] = 200\n",
    "dfd"
   ]
  },
  {
   "cell_type": "markdown",
   "metadata": {},
   "source": [
    "### Dropping\n",
    "\n",
    "N.B.: dropping doesn't act permanently on the DataFrame, i.e. to get that do :\n",
    "```python\n",
    "df = df.drop(....)\n",
    "```"
   ]
  },
  {
   "cell_type": "code",
   "execution_count": null,
   "metadata": {},
   "outputs": [],
   "source": [
    "# Dropping by column\n",
    "df.drop(['E prime'], axis=1)\n",
    "\n",
    "#which is equivalent to\n",
    "new_df=df.drop(columns=['E prime'])\n",
    "new_df"
   ]
  },
  {
   "cell_type": "code",
   "execution_count": null,
   "metadata": {},
   "outputs": [],
   "source": [
    "# Dropping by raws\n",
    "# safe and always working\n",
    "df.drop(df.index[[1,2,3,4]])"
   ]
  },
  {
   "cell_type": "code",
   "execution_count": null,
   "metadata": {},
   "outputs": [],
   "source": [
    "df"
   ]
  },
  {
   "cell_type": "code",
   "execution_count": null,
   "metadata": {},
   "outputs": [],
   "source": [
    "# something like df.drop('index_name') \n",
    "# would work but the type of index must be specificed, \n",
    "# in particular with DatetimeIndex\n",
    "df.drop(pd.to_datetime(\"2024-11-27 18:45:00\"))"
   ]
  },
  {
   "cell_type": "markdown",
   "metadata": {},
   "source": [
    "## Missing data\n",
    "\n",
    "pandas primarily uses the value np.nan to represent missing data. It is by default not included in computations."
   ]
  },
  {
   "cell_type": "code",
   "execution_count": null,
   "metadata": {},
   "outputs": [],
   "source": [
    "df_wNan = df[df>0]\n",
    "df_wNan"
   ]
  },
  {
   "cell_type": "code",
   "execution_count": null,
   "metadata": {},
   "outputs": [],
   "source": [
    "# dropping raws with at least a Nan\n",
    "df_wNan.dropna(how='any')"
   ]
  },
  {
   "cell_type": "code",
   "execution_count": null,
   "metadata": {},
   "outputs": [],
   "source": [
    "# getting a mask\n",
    "df_wNan.isna()\n",
    "#df_wNan.notna()"
   ]
  },
  {
   "cell_type": "code",
   "execution_count": null,
   "metadata": {},
   "outputs": [],
   "source": [
    "# filling missing data\n",
    "df_wNan.fillna(value=0)"
   ]
  },
  {
   "cell_type": "markdown",
   "metadata": {},
   "source": [
    "Fill gaps forward or backward by propagating non-NA values forward or backward:"
   ]
  },
  {
   "cell_type": "code",
   "execution_count": null,
   "metadata": {},
   "outputs": [],
   "source": [
    "df_wNan.fillna(method='pad')"
   ]
  },
  {
   "cell_type": "markdown",
   "metadata": {},
   "source": [
    "## Operations\n",
    "\n",
    "Here comes the most relevant advantage of DataFrame. Operations on columns are extremly fast due to several intrinsic optimizations:\n",
    "\n",
    "* They are implemented in C/Cython via NumPy.\n",
    "* Pandas processes columns as contiguous memory arrays.\n",
    "* Vectorized operations eliminate the need for slow Python loops.\n",
    "* Efficient memory and cache utilization boost performance.\n"
   ]
  },
  {
   "cell_type": "code",
   "execution_count": null,
   "metadata": {},
   "outputs": [],
   "source": [
    "# Some statistics (mean() just as an example)\n",
    "# raws\n",
    "print (df.mean(axis=0),'\\n')\n",
    "# columns\n",
    "print (df.mean(axis=1),'\\n')"
   ]
  },
  {
   "cell_type": "code",
   "execution_count": null,
   "metadata": {},
   "outputs": [],
   "source": [
    "# global operations on columns\n",
    "df.apply(np.cumsum)"
   ]
  },
  {
   "cell_type": "code",
   "execution_count": null,
   "metadata": {},
   "outputs": [],
   "source": [
    "df"
   ]
  },
  {
   "cell_type": "code",
   "execution_count": null,
   "metadata": {},
   "outputs": [],
   "source": [
    "df.apply(lambda x: x.max() - x.min())"
   ]
  },
  {
   "cell_type": "code",
   "execution_count": null,
   "metadata": {},
   "outputs": [],
   "source": [
    "# syntax is as usual similar to that of numpy arrays\n",
    "df['A']+df['B']"
   ]
  },
  {
   "cell_type": "markdown",
   "metadata": {},
   "source": [
    "Let's play it hard and load (in memory) a (relatively) large dataset"
   ]
  },
  {
   "cell_type": "code",
   "execution_count": null,
   "metadata": {},
   "outputs": [],
   "source": [
    "# WARNING! link in past notebook was wrong!, (if needed) get the right file from:\n",
    "#!wget https://www.dropbox.com/s/xvjzaxzz3ysphme/data_000637.txt -P ~/data/\n",
    "\n",
    "file_name=\"~/data/data_000637.txt\"\n",
    "data=pd.read_csv(file_name)\n",
    "data.tail(10)"
   ]
  },
  {
   "cell_type": "markdown",
   "metadata": {},
   "source": [
    "Let's now do some operations among (elements of) columns"
   ]
  },
  {
   "cell_type": "code",
   "execution_count": null,
   "metadata": {},
   "outputs": [],
   "source": [
    "# the one-liner killing it all\n",
    "data['timens']=data['TDC_MEAS']*25/30+data['BX_COUNTER']*25"
   ]
  },
  {
   "cell_type": "code",
   "execution_count": null,
   "metadata": {},
   "outputs": [],
   "source": [
    "data['timens']"
   ]
  },
  {
   "cell_type": "code",
   "execution_count": null,
   "metadata": {},
   "outputs": [],
   "source": [
    "# the old slooow way\n",
    "def conversion(data):\n",
    "    result=[]\n",
    "    for i in range(len(data)): \n",
    "        result.append(data.loc[data.index[i],'TDC_MEAS']*25/30.+data.loc[data.index[i],'BX_COUNTER']*25)\n",
    "    return result\n",
    "\n",
    "data['timens']=conversion(data)"
   ]
  },
  {
   "cell_type": "markdown",
   "metadata": {},
   "source": [
    "For tasks on extremely large datasets, libraries like [Polars](https://docs.pola.rs) or [Dask](https://www.dask.org) can offer even faster alternatives by further parallelizing or optimizing columnar operations."
   ]
  },
  {
   "cell_type": "markdown",
   "metadata": {},
   "source": [
    "## Merge\n",
    "\n",
    "pandas provides various facilities for easily combining together Series, DataFrame, and Panel objects with various kinds of set logic for the indexes and relational algebra functionality in the case of join / merge-type operations.\n",
    "\n",
    "### Concat\n",
    "\n",
    "concatenation (adding rows) is straightforward\n"
   ]
  },
  {
   "cell_type": "code",
   "execution_count": 3,
   "metadata": {},
   "outputs": [
    {
     "data": {
      "text/html": [
       "<div>\n",
       "<style scoped>\n",
       "    .dataframe tbody tr th:only-of-type {\n",
       "        vertical-align: middle;\n",
       "    }\n",
       "\n",
       "    .dataframe tbody tr th {\n",
       "        vertical-align: top;\n",
       "    }\n",
       "\n",
       "    .dataframe thead th {\n",
       "        text-align: right;\n",
       "    }\n",
       "</style>\n",
       "<table border=\"1\" class=\"dataframe\">\n",
       "  <thead>\n",
       "    <tr style=\"text-align: right;\">\n",
       "      <th></th>\n",
       "      <th>0</th>\n",
       "      <th>1</th>\n",
       "      <th>2</th>\n",
       "      <th>3</th>\n",
       "    </tr>\n",
       "  </thead>\n",
       "  <tbody>\n",
       "    <tr>\n",
       "      <th>0</th>\n",
       "      <td>0.257860</td>\n",
       "      <td>-0.570192</td>\n",
       "      <td>-1.158308</td>\n",
       "      <td>-0.621798</td>\n",
       "    </tr>\n",
       "    <tr>\n",
       "      <th>1</th>\n",
       "      <td>-1.922267</td>\n",
       "      <td>-0.885109</td>\n",
       "      <td>0.007440</td>\n",
       "      <td>0.291447</td>\n",
       "    </tr>\n",
       "    <tr>\n",
       "      <th>2</th>\n",
       "      <td>-1.118791</td>\n",
       "      <td>-2.214128</td>\n",
       "      <td>-2.118419</td>\n",
       "      <td>-1.027866</td>\n",
       "    </tr>\n",
       "    <tr>\n",
       "      <th>3</th>\n",
       "      <td>-0.295261</td>\n",
       "      <td>-1.081564</td>\n",
       "      <td>-0.022190</td>\n",
       "      <td>-0.281046</td>\n",
       "    </tr>\n",
       "    <tr>\n",
       "      <th>4</th>\n",
       "      <td>-0.016118</td>\n",
       "      <td>0.420654</td>\n",
       "      <td>-0.697200</td>\n",
       "      <td>-1.036359</td>\n",
       "    </tr>\n",
       "    <tr>\n",
       "      <th>5</th>\n",
       "      <td>-0.249856</td>\n",
       "      <td>0.874292</td>\n",
       "      <td>-1.088701</td>\n",
       "      <td>-2.598164</td>\n",
       "    </tr>\n",
       "    <tr>\n",
       "      <th>6</th>\n",
       "      <td>-0.492321</td>\n",
       "      <td>0.117864</td>\n",
       "      <td>0.369320</td>\n",
       "      <td>0.873759</td>\n",
       "    </tr>\n",
       "    <tr>\n",
       "      <th>7</th>\n",
       "      <td>0.327005</td>\n",
       "      <td>0.169167</td>\n",
       "      <td>0.294224</td>\n",
       "      <td>0.838231</td>\n",
       "    </tr>\n",
       "    <tr>\n",
       "      <th>8</th>\n",
       "      <td>-0.567140</td>\n",
       "      <td>0.745664</td>\n",
       "      <td>-0.388140</td>\n",
       "      <td>0.455129</td>\n",
       "    </tr>\n",
       "    <tr>\n",
       "      <th>9</th>\n",
       "      <td>1.168910</td>\n",
       "      <td>-0.814145</td>\n",
       "      <td>-0.166625</td>\n",
       "      <td>1.577534</td>\n",
       "    </tr>\n",
       "  </tbody>\n",
       "</table>\n",
       "</div>"
      ],
      "text/plain": [
       "          0         1         2         3\n",
       "0  0.257860 -0.570192 -1.158308 -0.621798\n",
       "1 -1.922267 -0.885109  0.007440  0.291447\n",
       "2 -1.118791 -2.214128 -2.118419 -1.027866\n",
       "3 -0.295261 -1.081564 -0.022190 -0.281046\n",
       "4 -0.016118  0.420654 -0.697200 -1.036359\n",
       "5 -0.249856  0.874292 -1.088701 -2.598164\n",
       "6 -0.492321  0.117864  0.369320  0.873759\n",
       "7  0.327005  0.169167  0.294224  0.838231\n",
       "8 -0.567140  0.745664 -0.388140  0.455129\n",
       "9  1.168910 -0.814145 -0.166625  1.577534"
      ]
     },
     "execution_count": 3,
     "metadata": {},
     "output_type": "execute_result"
    }
   ],
   "source": [
    "rdf = pd.DataFrame(np.random.randn(10, 4))\n",
    "rdf"
   ]
  },
  {
   "cell_type": "code",
   "execution_count": 4,
   "metadata": {},
   "outputs": [
    {
     "data": {
      "text/plain": [
       "[          0         1         2         3\n",
       " 0  0.257860 -0.570192 -1.158308 -0.621798\n",
       " 1 -1.922267 -0.885109  0.007440  0.291447\n",
       " 2 -1.118791 -2.214128 -2.118419 -1.027866,\n",
       "           0         1         2         3\n",
       " 3 -0.295261 -1.081564 -0.022190 -0.281046\n",
       " 4 -0.016118  0.420654 -0.697200 -1.036359\n",
       " 5 -0.249856  0.874292 -1.088701 -2.598164\n",
       " 6 -0.492321  0.117864  0.369320  0.873759,\n",
       "           0         1         2         3\n",
       " 7  0.327005  0.169167  0.294224  0.838231\n",
       " 8 -0.567140  0.745664 -0.388140  0.455129\n",
       " 9  1.168910 -0.814145 -0.166625  1.577534]"
      ]
     },
     "execution_count": 4,
     "metadata": {},
     "output_type": "execute_result"
    }
   ],
   "source": [
    "# divide it into pieces raw-wise\n",
    "pieces = [rdf[:3], rdf[3:7], rdf[7:]]\n",
    "pieces"
   ]
  },
  {
   "cell_type": "code",
   "execution_count": null,
   "metadata": {},
   "outputs": [],
   "source": [
    "# put it back together\n",
    "#pd.concat(pieces)\n",
    "\n",
    "# indexes can be ignored\n",
    "pd.concat(pieces, ignore_index=True)\n",
    "\n",
    "# in case of dimension mismatch, Nan are added where needed"
   ]
  },
  {
   "cell_type": "code",
   "execution_count": null,
   "metadata": {},
   "outputs": [],
   "source": [
    "# appending a single row (as a Series)\n",
    "s = rdf.iloc[3]\n",
    "rdf = pd.concat([rdf,s.to_frame().T], ignore_index=True)\n",
    "rdf"
   ]
  },
  {
   "cell_type": "markdown",
   "metadata": {},
   "source": [
    "### Merge/Join\n",
    "\n",
    "SQL like operations on table can be performed on DataFrames. This is all rather sophisticated, refer to the [doc](https://pandas.pydata.org/pandas-docs/stable/merging.html#merging) for more info/examples.\n",
    "\n",
    "#### Merging, Inner Join (default)\n",
    "\n",
    "Only rows with matching id values are included:"
   ]
  },
  {
   "cell_type": "code",
   "execution_count": null,
   "metadata": {},
   "outputs": [],
   "source": [
    "import pandas as pd\n",
    "\n",
    "df1 = pd.DataFrame({'id': [1, 2, 3], 'name': ['Alice', 'Bob', 'Charlie']})\n",
    "df2 = pd.DataFrame({'id': [2, 3, 4], 'age': [25, 30, 35]})\n",
    "\n",
    "# Merge on the 'id' column\n",
    "result = pd.merge(df1, df2, on='id')\n",
    "print(result)"
   ]
  },
  {
   "cell_type": "markdown",
   "metadata": {},
   "source": [
    "#### Merging, Left Join\n",
    "\n",
    "A left join includes all rows from `df1` (left) and fills in `NaN` for missing matches in `df2`."
   ]
  },
  {
   "cell_type": "code",
   "execution_count": null,
   "metadata": {},
   "outputs": [],
   "source": [
    "result = pd.merge(df1, df2, on='id', how='left')\n",
    "print(result)"
   ]
  },
  {
   "cell_type": "markdown",
   "metadata": {},
   "source": [
    "#### Merging, Outer Join\n",
    "\n",
    "An outer join includes all rows from both DataFrames, filling NaN for missing values"
   ]
  },
  {
   "cell_type": "code",
   "execution_count": null,
   "metadata": {},
   "outputs": [],
   "source": [
    "result = pd.merge(df1, df2, on='id', how='outer')\n",
    "print(result)"
   ]
  },
  {
   "cell_type": "markdown",
   "metadata": {},
   "source": [
    "`join` is similar to `merge` but uses index as key and has 'Left' as default"
   ]
  },
  {
   "cell_type": "code",
   "execution_count": null,
   "metadata": {},
   "outputs": [],
   "source": [
    "df1 = pd.DataFrame({'name': ['Alice', 'Bob', 'Charlie']}, index=[1, 2, 3])\n",
    "df2 = pd.DataFrame({'age': [25, 30, 35]}, index=[2, 3, 4])\n",
    "\n",
    "result = df1.join(df2)\n",
    "print(result)\n"
   ]
  },
  {
   "cell_type": "markdown",
   "metadata": {},
   "source": [
    "## Grouping\n",
    "\n",
    "By “group by” we are referring to a process involving one or more of the following steps:\n",
    "\n",
    "* Splitting the data into groups based on some criteria\n",
    "* Applying a function to each group independently\n",
    "* Combining the results into a data structure\n",
    "\n",
    "\n",
    "Grouping is one of the most powerful and at the same time most sofisticated action you can perform with DataFrames. Mastering it is key for an effective usage of Pandas and vectorized data analysis. Reading the [documentation](https://pandas.pydata.org/pandas-docs/stable/user_guide/groupby.html) or going through a [tutorial](https://realpython.com/pandas-groupby/) is warmly recommended. \n",
    "\n",
    "Let's go through a few examples:"
   ]
  },
  {
   "cell_type": "code",
   "execution_count": 24,
   "metadata": {},
   "outputs": [
    {
     "name": "stdout",
     "output_type": "stream",
     "text": [
      "          Values\n",
      "Category        \n",
      "A             90\n",
      "B             60\n",
      "C             60\n"
     ]
    },
    {
     "data": {
      "text/html": [
       "<div>\n",
       "<style scoped>\n",
       "    .dataframe tbody tr th:only-of-type {\n",
       "        vertical-align: middle;\n",
       "    }\n",
       "\n",
       "    .dataframe tbody tr th {\n",
       "        vertical-align: top;\n",
       "    }\n",
       "\n",
       "    .dataframe thead th {\n",
       "        text-align: right;\n",
       "    }\n",
       "</style>\n",
       "<table border=\"1\" class=\"dataframe\">\n",
       "  <thead>\n",
       "    <tr style=\"text-align: right;\">\n",
       "      <th></th>\n",
       "      <th>Category</th>\n",
       "      <th>Values</th>\n",
       "    </tr>\n",
       "  </thead>\n",
       "  <tbody>\n",
       "    <tr>\n",
       "      <th>0</th>\n",
       "      <td>A</td>\n",
       "      <td>10</td>\n",
       "    </tr>\n",
       "    <tr>\n",
       "      <th>1</th>\n",
       "      <td>B</td>\n",
       "      <td>20</td>\n",
       "    </tr>\n",
       "    <tr>\n",
       "      <th>2</th>\n",
       "      <td>A</td>\n",
       "      <td>30</td>\n",
       "    </tr>\n",
       "    <tr>\n",
       "      <th>3</th>\n",
       "      <td>B</td>\n",
       "      <td>40</td>\n",
       "    </tr>\n",
       "    <tr>\n",
       "      <th>4</th>\n",
       "      <td>A</td>\n",
       "      <td>50</td>\n",
       "    </tr>\n",
       "    <tr>\n",
       "      <th>5</th>\n",
       "      <td>C</td>\n",
       "      <td>60</td>\n",
       "    </tr>\n",
       "  </tbody>\n",
       "</table>\n",
       "</div>"
      ],
      "text/plain": [
       "  Category  Values\n",
       "0        A      10\n",
       "1        B      20\n",
       "2        A      30\n",
       "3        B      40\n",
       "4        A      50\n",
       "5        C      60"
      ]
     },
     "execution_count": 24,
     "metadata": {},
     "output_type": "execute_result"
    }
   ],
   "source": [
    "data = {\n",
    "    'Category': ['A', 'B', 'A', 'B', 'A', 'C'],\n",
    "    'Values': [10, 20, 30, 40, 50, 60]\n",
    "}\n",
    "\n",
    "df = pd.DataFrame(data)\n",
    "\n",
    "# Group by 'Category' and calculate the sum of their 'Values'\n",
    "result = df.groupby('Category').sum()\n",
    "print(result)\n",
    "\n",
    "df\n"
   ]
  },
  {
   "cell_type": "code",
   "execution_count": 26,
   "metadata": {},
   "outputs": [
    {
     "name": "stdout",
     "output_type": "stream",
     "text": [
      "         Values      \n",
      "            sum  mean\n",
      "Category             \n",
      "A            90  30.0\n",
      "B            60  30.0\n",
      "C            60  60.0\n"
     ]
    }
   ],
   "source": [
    "# Multiple Aggregations\n",
    "result = df.groupby('Category').agg(['sum', 'mean'])   # sum e mean sono dei metodi veri e propri, non puoi chiamarli in altro modo!!\n",
    "print(result)"
   ]
  },
  {
   "cell_type": "code",
   "execution_count": 27,
   "metadata": {},
   "outputs": [
    {
     "name": "stdout",
     "output_type": "stream",
     "text": [
      "               Values\n",
      "Category Type        \n",
      "A        X         10\n",
      "         Y         20\n",
      "B        X         30\n",
      "         Y         40\n",
      "C        X         50\n",
      "         Y         60\n",
      "               Values\n",
      "Type Category        \n",
      "X    A             10\n",
      "     B             30\n",
      "     C             50\n",
      "Y    A             20\n",
      "     B             40\n",
      "     C             60\n",
      "                Type\n",
      "Values Category     \n",
      "10     A           X\n",
      "20     A           Y\n",
      "30     B           X\n",
      "40     B           Y\n",
      "50     C           X\n",
      "60     C           Y\n"
     ]
    },
    {
     "data": {
      "text/html": [
       "<div>\n",
       "<style scoped>\n",
       "    .dataframe tbody tr th:only-of-type {\n",
       "        vertical-align: middle;\n",
       "    }\n",
       "\n",
       "    .dataframe tbody tr th {\n",
       "        vertical-align: top;\n",
       "    }\n",
       "\n",
       "    .dataframe thead th {\n",
       "        text-align: right;\n",
       "    }\n",
       "</style>\n",
       "<table border=\"1\" class=\"dataframe\">\n",
       "  <thead>\n",
       "    <tr style=\"text-align: right;\">\n",
       "      <th></th>\n",
       "      <th>Category</th>\n",
       "      <th>Type</th>\n",
       "      <th>Values</th>\n",
       "    </tr>\n",
       "  </thead>\n",
       "  <tbody>\n",
       "    <tr>\n",
       "      <th>0</th>\n",
       "      <td>A</td>\n",
       "      <td>X</td>\n",
       "      <td>10</td>\n",
       "    </tr>\n",
       "    <tr>\n",
       "      <th>1</th>\n",
       "      <td>A</td>\n",
       "      <td>Y</td>\n",
       "      <td>20</td>\n",
       "    </tr>\n",
       "    <tr>\n",
       "      <th>2</th>\n",
       "      <td>B</td>\n",
       "      <td>X</td>\n",
       "      <td>30</td>\n",
       "    </tr>\n",
       "    <tr>\n",
       "      <th>3</th>\n",
       "      <td>B</td>\n",
       "      <td>Y</td>\n",
       "      <td>40</td>\n",
       "    </tr>\n",
       "    <tr>\n",
       "      <th>4</th>\n",
       "      <td>C</td>\n",
       "      <td>X</td>\n",
       "      <td>50</td>\n",
       "    </tr>\n",
       "    <tr>\n",
       "      <th>5</th>\n",
       "      <td>C</td>\n",
       "      <td>Y</td>\n",
       "      <td>60</td>\n",
       "    </tr>\n",
       "  </tbody>\n",
       "</table>\n",
       "</div>"
      ],
      "text/plain": [
       "  Category Type  Values\n",
       "0        A    X      10\n",
       "1        A    Y      20\n",
       "2        B    X      30\n",
       "3        B    Y      40\n",
       "4        C    X      50\n",
       "5        C    Y      60"
      ]
     },
     "execution_count": 27,
     "metadata": {},
     "output_type": "execute_result"
    }
   ],
   "source": [
    "# Grouping by multiple columns\n",
    "df = pd.DataFrame({'Category': ['A', 'A', 'B', 'B', 'C', 'C'],\n",
    "                   'Type': ['X', 'Y', 'X', 'Y', 'X', 'Y'],\n",
    "                   'Values': [10, 20, 30, 40, 50, 60]})\n",
    "\n",
    "result = df.groupby(['Category', 'Type']).sum()\n",
    "print(result)\n",
    "\n",
    "result = df.groupby(['Type', 'Category']).sum()\n",
    "print(result)\n",
    "\n",
    "result = df.groupby(['Values', 'Category']).sum()\n",
    "print(result)\n",
    "df"
   ]
  },
  {
   "cell_type": "code",
   "execution_count": 28,
   "metadata": {},
   "outputs": [
    {
     "name": "stdout",
     "output_type": "stream",
     "text": [
      "  Category Type  Values  Group_Avg\n",
      "0        A    X      10       15.0\n",
      "1        A    Y      20       15.0\n",
      "2        B    X      30       35.0\n",
      "3        B    Y      40       35.0\n",
      "4        C    X      50       55.0\n",
      "5        C    Y      60       55.0\n"
     ]
    }
   ],
   "source": [
    "# Trasformations using groupby(): add group averages to DataFrame\n",
    "\n",
    "# la seguente riga calcola la media 'mean' della colonna 'Values' per ogni gruppo in Category e la assegna a una nuova colonna 'Group_Avg', \n",
    "    # replicando il valore medio per ogni riga del gruppo\n",
    "df['Group_Avg'] = df.groupby('Category')['Values'].transform('mean')\n",
    "print(df)"
   ]
  },
  {
   "cell_type": "code",
   "execution_count": 29,
   "metadata": {},
   "outputs": [
    {
     "name": "stdout",
     "output_type": "stream",
     "text": [
      "  Category Type  Values  Group_Avg\n",
      "2        B    X      30       35.0\n",
      "3        B    Y      40       35.0\n",
      "4        C    X      50       55.0\n",
      "5        C    Y      60       55.0\n"
     ]
    }
   ],
   "source": [
    "# filtering\n",
    "filtered = df.groupby('Category').filter(lambda x: x['Values'].sum() > 50)\n",
    "print(filtered)"
   ]
  },
  {
   "cell_type": "code",
   "execution_count": 30,
   "metadata": {},
   "outputs": [
    {
     "name": "stdout",
     "output_type": "stream",
     "text": [
      "          Sum  Max  Count\n",
      "Category                 \n",
      "A          30   20      2\n",
      "B          70   40      2\n",
      "C         110   60      2\n"
     ]
    },
    {
     "name": "stderr",
     "output_type": "stream",
     "text": [
      "/tmp/ipykernel_4482/640594234.py:9: DeprecationWarning: DataFrameGroupBy.apply operated on the grouping columns. This behavior is deprecated, and in a future version of pandas the grouping columns will be excluded from the operation. Either pass `include_groups=False` to exclude the groupings or explicitly select the grouping columns after groupby to silence this warning.\n",
      "  result = df.groupby('Category').apply(custom_aggregation)\n"
     ]
    }
   ],
   "source": [
    "# custom aggregation with apply()\n",
    "def custom_aggregation(group):\n",
    "    return pd.Series({\n",
    "        'Sum': group['Values'].sum(),\n",
    "        'Max': group['Values'].max(),\n",
    "        'Count': group['Values'].count()\n",
    "    })\n",
    "\n",
    "result = df.groupby('Category').apply(custom_aggregation)\n",
    "print(result)"
   ]
  },
  {
   "cell_type": "code",
   "execution_count": 36,
   "metadata": {},
   "outputs": [
    {
     "name": "stdout",
     "output_type": "stream",
     "text": [
      "Group: A\n",
      "  Category Type  Values  Group_Avg\n",
      "0        A    X      10       15.0\n",
      "1        A    Y      20       15.0\n",
      "Group: B\n",
      "  Category Type  Values  Group_Avg\n",
      "2        B    X      30       35.0\n",
      "3        B    Y      40       35.0\n",
      "Group: C\n",
      "  Category Type  Values  Group_Avg\n",
      "4        C    X      50       55.0\n",
      "5        C    Y      60       55.0\n"
     ]
    }
   ],
   "source": [
    "# splitting data into groups\n",
    "grouped = df.groupby('Category')\n",
    "\n",
    "for name, group in grouped:\n",
    "    print(f\"Group: {name}\")\n",
    "    print(group)\n"
   ]
  },
  {
   "cell_type": "markdown",
   "metadata": {},
   "source": [
    "## Multi-indexing\n",
    "\n",
    "\n",
    "Hierarchical / Multi-level indexing allows sophisticated data analysis on higher dimensional data. In essence, it enables you to store and manipulate data with an arbitrary number of dimensions in lower dimensional data structures like Series (1d) and DataFrame (2d)."
   ]
  },
  {
   "cell_type": "code",
   "execution_count": null,
   "metadata": {},
   "outputs": [],
   "source": [
    "tuples = list(zip(['bar', 'bar', 'baz', 'baz', 'foo', 'foo', 'qux', 'qux'],\n",
    "          ['one', 'two', 'one', 'two', 'one', 'two', 'one', 'two']))\n",
    "multi_index = pd.MultiIndex.from_tuples(tuples, names=['first', 'second'])\n",
    "print (multi_index,'\\n')\n",
    "\n",
    "s = pd.Series(np.random.randn(8), index=multi_index)\n",
    "print (s)\n"
   ]
  },
  {
   "cell_type": "code",
   "execution_count": null,
   "metadata": {},
   "outputs": [],
   "source": [
    "gdf = pd.DataFrame({'A' : ['foo', 'bar', 'foo', 'bar',\n",
    "                          'foo', 'bar', 'foo', 'foo'],\n",
    "                    'B' : ['one', 'one', 'two', 'three',\n",
    "                           'two', 'two', 'one', 'three'],\n",
    "                    'C' : np.random.randn(8),\n",
    "                    'D' : np.random.randn(8)})\n",
    "gdf\n",
    "\n",
    "# it enables further features of the groupby method,\n",
    "# e.g. when group-by by multiple columns\n",
    "gdf.groupby(['A','B']).sum()"
   ]
  },
  {
   "cell_type": "code",
   "execution_count": null,
   "metadata": {},
   "outputs": [],
   "source": [
    "# stack() method “compresses” a level in the DataFrame’s columns\n",
    "gdf.groupby(['A','B']).sum().stack()"
   ]
  },
  {
   "cell_type": "markdown",
   "metadata": {},
   "source": [
    "## Plotting\n",
    "\n",
    "Just a preview, more on the next lab class!"
   ]
  },
  {
   "cell_type": "code",
   "execution_count": null,
   "metadata": {},
   "outputs": [],
   "source": [
    "ts = pd.Series(np.random.randn(1000), index=pd.date_range('1/1/2000', periods=1000))\n",
    "ts.cumsum().plot()"
   ]
  },
  {
   "cell_type": "code",
   "execution_count": null,
   "metadata": {},
   "outputs": [],
   "source": [
    "import matplotlib.pyplot as plt\n",
    "\n",
    "pdf=pd.DataFrame(np.random.randn(1000, 4), index=ts.index,columns=['A', 'B', 'C', 'D'])\n",
    "pdf = pdf.cumsum()\n",
    "plt.figure(); pdf.plot(); plt.legend(loc='best')"
   ]
  },
  {
   "cell_type": "code",
   "execution_count": null,
   "metadata": {},
   "outputs": [],
   "source": []
  }
 ],
 "metadata": {
  "kernelspec": {
   "display_name": "Python 3 (ipykernel)",
   "language": "python",
   "name": "python3"
  },
  "language_info": {
   "codemirror_mode": {
    "name": "ipython",
    "version": 3
   },
   "file_extension": ".py",
   "mimetype": "text/x-python",
   "name": "python",
   "nbconvert_exporter": "python",
   "pygments_lexer": "ipython3",
   "version": "3.12.4"
  }
 },
 "nbformat": 4,
 "nbformat_minor": 4
}
