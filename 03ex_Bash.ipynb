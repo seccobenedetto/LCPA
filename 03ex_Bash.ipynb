{
 "cells": [
  {
   "cell_type": "markdown",
   "id": "b5746bd0",
   "metadata": {},
   "source": [
    "The following exercises are meant to be solved by gathering the bash commands incrimentally in two scripts, one for ex 1.* the other for ex 2.* "
   ]
  },
  {
   "cell_type": "markdown",
   "id": "4e60de78",
   "metadata": {},
   "source": [
    "### Ex 1"
   ]
  },
  {
   "cell_type": "markdown",
   "id": "6759df36",
   "metadata": {},
   "source": [
    "1\\.a Make a new directory called `students` in your home. Download a csv file with the list of students of this lab from [here](https://www.dropbox.com/s/867rtx3az6e9gm8/LCP_22-23_students.csv) (use the `wget` command) and copy that to `students`. First check whether the file is already there"
   ]
  },
  {
   "cell_type": "markdown",
   "id": "47f6bb00-5f95-4eb2-995d-833449fb796d",
   "metadata": {},
   "source": [
    "```bash\n",
    "cd $HOME   # va a '/home/seccob'\n",
    "mkdir students   # crea cartella nella home\n",
    "wget https://www.dropbox.com/scl/fi/bxv17nrbrl83vw6qrkiu9/LCP_22-23_students.csv?rlkey=47fakvatrtif3q3qw4q97p5b7&e=1\n",
    "mv LCP_22-23_students.csv\\?rlkey/=47fakvatrtif3qw4q97p5b7 LCP_22-23_students.csv   # I rename the file\n",
    "# da aggiungere if file is there\n",
    "cp LCP_22-23_students.csv /home/seccob/students\n",
    "cd students\n",
    "```"
   ]
  },
  {
   "cell_type": "markdown",
   "id": "798c0c9d",
   "metadata": {},
   "source": [
    "1\\.b Make two new files, one containing the students belonging to PoD, the other to Physics."
   ]
  },
  {
   "cell_type": "markdown",
   "id": "eb14f6b0-6140-45b2-8eca-4da44abc3615",
   "metadata": {},
   "source": [
    "```bash\n",
    "grep -c \"PoD\" LCP_22-23.csv  # I count the rows with text \"PoD\" (they are 67)\n",
    "grep -c \"Physics\" LCP_22-23.csv  # I count the rows with text \"PoD\" (they are 5)\n",
    "touch pod.txt   # creo i file vuoti\n",
    "touch phy.txt\n",
    "grep -h \"PoD\" LCP_22-23.csv > pod.txt # scrivo per intero le righe con \"PoD\", redirigendo l'output su file\n",
    "grep -h \"Physics\" LCP_22-23.csv > phy.txt # scrivo per intero le righe con \"PoD\", redirigendo l'output su file\n",
    "\n",
    "```"
   ]
  },
  {
   "cell_type": "markdown",
   "id": "8a43d622",
   "metadata": {},
   "source": [
    "1\\.c For each letter of the alphabet, count the number of students whose surname starts with that letter. "
   ]
  },
  {
   "cell_type": "markdown",
   "id": "80965e06-71b0-4d83-a198-f6a1c01d7466",
   "metadata": {},
   "source": [
    "```bash\n",
    "# example for one letter:\n",
    "grep -c \"^A\" LCP_22-23.csv   \n",
    "# now  I do the cycle:\n",
    "for i in {A-Z}; do grep -c \"^i\" LCP_22-23.csv; done\n",
    "\n",
    "# test:\n",
    "for i in {A..Z}; do echo $i; done\n",
    "```"
   ]
  },
  {
   "cell_type": "markdown",
   "id": "874885f6-c4b2-4e00-8835-345b96e32dba",
   "metadata": {},
   "source": []
  },
  {
   "cell_type": "markdown",
   "id": "4ba6bc90",
   "metadata": {},
   "source": [
    "1\\.d Find out which is the letter with most counts."
   ]
  },
  {
   "cell_type": "markdown",
   "id": "086a043c",
   "metadata": {},
   "source": [
    "1\\.e Assume an obvious numbering of the students in the file (first line is 1, second line is 2, etc.), group students \"modulo 18\", i.e. 1,19,37,.. 2,20,38,.. etc. and put each group in a separate file  "
   ]
  },
  {
   "cell_type": "markdown",
   "id": "1d730d21",
   "metadata": {},
   "source": [
    "### Ex 2"
   ]
  },
  {
   "cell_type": "markdown",
   "id": "4b87ecb7",
   "metadata": {},
   "source": [
    "2.a Make a copy of the file `data.csv` removing the metadata and the commas between numbers; call it `data.txt`"
   ]
  },
  {
   "cell_type": "markdown",
   "id": "344048c8",
   "metadata": {},
   "source": [
    "2\\.b How many even numbers are there?"
   ]
  },
  {
   "cell_type": "markdown",
   "id": "2a27138d",
   "metadata": {},
   "source": [
    "2\\.c Distinguish the entries on the basis of `sqrt(X^2 + Y^2 + Z^2)` is greater or smaller than `100*sqrt(3)/2`. Count the entries of each of the two groups "
   ]
  },
  {
   "cell_type": "markdown",
   "id": "e937ef4e",
   "metadata": {},
   "source": [
    "2\\.d Make `n` copies of data.txt (with `n` an input parameter of the script), where the i-th copy has all the numbers divided by i (with `1<=i<=n`)."
   ]
  }
 ],
 "metadata": {
  "kernelspec": {
   "display_name": "Python 3 (ipykernel)",
   "language": "python",
   "name": "python3"
  },
  "language_info": {
   "codemirror_mode": {
    "name": "ipython",
    "version": 3
   },
   "file_extension": ".py",
   "mimetype": "text/x-python",
   "name": "python",
   "nbconvert_exporter": "python",
   "pygments_lexer": "ipython3",
   "version": "3.12.4"
  }
 },
 "nbformat": 4,
 "nbformat_minor": 5
}
