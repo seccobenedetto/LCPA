{
 "cells": [
  {
   "cell_type": "markdown",
   "metadata": {},
   "source": [
    "1\\. Write a function that converts number representation, bin<->dec<->hex. (Clearly using the corresponding python built-in functions is not fair..)"
   ]
  },
  {
   "cell_type": "code",
   "execution_count": null,
   "metadata": {},
   "outputs": [],
   "source": [
    "#BINARIO:\n",
    "a = 13\n",
    "bina = []\n",
    "while a > 0:\n",
    "    r = a % 2     # resto\n",
    "    bina.append(r)\n",
    "    a = a // 2    # divisione per difetto\n",
    "bina.reverse()\n",
    "binastr = str('') # numero binario scritto come stringa\n",
    "for c in bina: binastr += str(c)\n",
    "print(\"Numero in binario:\", binastr)\n",
    "\n",
    "# ESADECIMALE:\n",
    "a = 162\n",
    "esadeca = []\n",
    "while a > 0:\n",
    "    r = a % 16     # resto\n",
    "    if r < 10:\n",
    "        esadeca.append(r)\n",
    "    elif r == 10: esadeca.append('a')\n",
    "    elif r == 11: esadeca.append('b')\n",
    "    elif r == 12: esadeca.append('c')\n",
    "    elif r == 13: esadeca.append('d')\n",
    "    elif r == 14: esadeca.append('e')\n",
    "    elif r == 15: esadeca.append('f')\n",
    "    a = a // 16    # divisione per difetto\n",
    "esadecastr = str('') # numero binario scritto come stringa\n",
    "for c in esadeca: esadecastr += str(c)\n",
    "print(\"Numero in esadecimale:\", esadecastr)"
   ]
  },
  {
   "cell_type": "markdown",
   "metadata": {},
   "source": [
    "2\\. Write a function that converts a 32 bit word into a single precision floating point (i.e. interprets the various bits as sign, mantissa and exponent)"
   ]
  },
  {
   "cell_type": "code",
   "execution_count": null,
   "metadata": {},
   "outputs": [],
   "source": [
    "import random\n",
    "# generiamo parola random:\n",
    "i = 0\n",
    "word = []\n",
    "while i<32: \n",
    "    word.append(random.randint(0,1))\n",
    "    i += 1\n",
    "wordstr = str('') # numero binario scritto come stringa\n",
    "for c in word: wordstr += str(c)\n",
    "print(\"Numero casuale in binario:\", wordstr)\n",
    "\n",
    "# trasformiamolo in float:\n",
    "word = '00000011111000000000000000000000'\n",
    "wordlist = []\n",
    "for c in word: wordlist.append(c)\n",
    "#print(wordlist)\n",
    "print(\"Segno:\", wordlist[0])\n",
    "exp = ''\n",
    "for c in wordlist[1:9]: exp += str(c)\n",
    "print(\"Esponente in binario:\", exp)\n",
    "exp = int(exp, 2)  # vedo la stringa come un numero binario\n",
    "print(\"Esponente in decimale:\", exp)\n",
    "mantissa = ''\n",
    "for c in wordlist[9:32]: mantissa += str(c)\n",
    "print(\"Mantissa in binario:\", mantissa)\n",
    "mantissa = int(mantissa, 2)\n",
    "print(\"Mantissa in decimale:\", mantissa)\n",
    "\n",
    "# calcolo esponente:\n",
    "new_exp = exp - 127\n",
    "if new_exp < 0:"
   ]
  },
  {
   "cell_type": "markdown",
   "metadata": {},
   "source": [
    "3\\. Write a program to determine the underflow and overflow limits (within a factor of 2) for python on your computer. \n",
    "\n",
    "**Tips**: define two variables inizialized to 1 and halve/double them enough time to exceed the under/over-flow limits  "
   ]
  },
  {
   "cell_type": "markdown",
   "metadata": {},
   "source": [
    "4\\. Write a program to determine the machine precision\n",
    "\n",
    "**Tips**: define a new variable by adding a smaller and smaller value (proceeding similarly to prob. 2) to an original variable and check the point where the two are the same "
   ]
  },
  {
   "cell_type": "markdown",
   "metadata": {},
   "source": [
    "5\\. Write a function that takes in input three parameters $a$, $b$ and $c$ and prints out the two solutions to the quadratic equation $ax^2+bx+c=0$ using the standard formula:\n",
    "$$\n",
    "x=\\frac{-b\\pm\\sqrt{b^2-4ac}}{2a}\n",
    "$$\n",
    "\n",
    "(a) use the program to compute the solution for $a=0.001$, $b=1000$ and $c=0.001$\n",
    "\n",
    "(b) re-express the standard solution formula by multiplying top and bottom by $-b\\mp\\sqrt{b^2-4ac}$ and again find the solution for $a=0.001$, $b=1000$ and $c=0.001$. How does it compare with what previously obtained? Why?\n",
    "\n",
    "(c) write a function that compute the roots of a quadratic equation accurately in all cases"
   ]
  },
  {
   "cell_type": "markdown",
   "metadata": {},
   "source": [
    "6\\. Write a program that implements the function $f(x)=x(x−1)$\n",
    "\n",
    "(a) Calculate the derivative of the function at the point $x = 1$ using the derivative definition:\n",
    "\n",
    "$$\n",
    "\\frac{{\\rm d}f}{{\\rm d}x} = \\lim_{\\delta\\to0} \\frac{f(x+\\delta)-f(x)}{\\delta}\n",
    "$$\n",
    "\n",
    "with $\\delta = 10^{−2}$. Calculate the true value of the same derivative analytically and compare with the answer your program gives. The two will not agree perfectly. Why not?\n",
    "\n",
    "(b) Repeat the calculation for $\\delta = 10^{−4}, 10^{−6}, 10^{−8}, 10^{−10}, 10^{−12}$ and $10^{−14}$. How does the accuracy scales with $\\delta$?"
   ]
  },
  {
   "cell_type": "markdown",
   "metadata": {},
   "source": [
    "7\\. Consider the integral of the semicircle of radius 1:\n",
    "$$\n",
    "I=\\int_{-1}^{1} \\sqrt(1-x^2) {\\rm d}x\n",
    "$$\n",
    "which it's known to be $I=\\frac{\\pi}{2}=1.57079632679...$.\n",
    "Alternatively we can use the Riemann definition of the integral:\n",
    "$$\n",
    "I=\\lim_{N\\to\\infty} \\sum_{k=1}^{N} h y_k \n",
    "$$\n",
    "\n",
    "with $h=2/N$ the width of each of the $N$ slices the domain is divided into and where\n",
    "$y_k$ is the value of the function at the $k-$th slice.\n",
    "\n",
    "(a) Write a programe to compute the integral with $N=100$. How does the result compares to the true value?\n",
    "\n",
    "(b) How much can $N$ be increased if the computation needs to be run in less than a second? What is the gain in running it for 1 minute? \n"
   ]
  },
  {
   "cell_type": "code",
   "execution_count": null,
   "metadata": {},
   "outputs": [],
   "source": []
  }
 ],
 "metadata": {
  "kernelspec": {
   "display_name": "Python 3 (ipykernel)",
   "language": "python",
   "name": "python3"
  },
  "language_info": {
   "codemirror_mode": {
    "name": "ipython",
    "version": 3
   },
   "file_extension": ".py",
   "mimetype": "text/x-python",
   "name": "python",
   "nbconvert_exporter": "python",
   "pygments_lexer": "ipython3",
   "version": "3.12.4"
  }
 },
 "nbformat": 4,
 "nbformat_minor": 4
}
