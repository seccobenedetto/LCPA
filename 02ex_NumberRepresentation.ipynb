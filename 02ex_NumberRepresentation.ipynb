{
 "cells": [
  {
   "cell_type": "markdown",
   "metadata": {},
   "source": [
    "### 1\\.  \n",
    "Write a function that converts number representation, bin<->dec<->hex. (Clearly using the corresponding python built-in functions is not fair..)"
   ]
  },
  {
   "cell_type": "code",
   "execution_count": 2,
   "metadata": {},
   "outputs": [
    {
     "name": "stdout",
     "output_type": "stream",
     "text": [
      "Numero in binario: 1101\n",
      "Numero in esadecimale: 2a\n"
     ]
    }
   ],
   "source": [
    "#BINARIO:\n",
    "a = 13\n",
    "bina = []\n",
    "while a > 0:\n",
    "    r = a % 2     # resto\n",
    "    bina.append(r)\n",
    "    a = a // 2    # divisione per difetto\n",
    "bina.reverse()\n",
    "binastr = str('') # numero binario scritto come stringa\n",
    "for c in bina: binastr += str(c)\n",
    "print(\"Numero in binario:\", binastr)\n",
    "\n",
    "# ESADECIMALE:\n",
    "a = 162\n",
    "esadeca = []\n",
    "while a > 0:\n",
    "    r = a % 16     # resto\n",
    "    if r < 10:\n",
    "        esadeca.append(r)\n",
    "    elif r == 10: esadeca.append('a')\n",
    "    elif r == 11: esadeca.append('b')\n",
    "    elif r == 12: esadeca.append('c')\n",
    "    elif r == 13: esadeca.append('d')\n",
    "    elif r == 14: esadeca.append('e')\n",
    "    elif r == 15: esadeca.append('f')\n",
    "    a = a // 16      # divisione per difetto\n",
    "esadecastr = str('') # numero binario scritto come stringa\n",
    "for c in esadeca: esadecastr += str(c)\n",
    "print(\"Numero in esadecimale:\", esadecastr)"
   ]
  },
  {
   "cell_type": "markdown",
   "metadata": {},
   "source": [
    "### 2\\.\n",
    "Write a function that converts a 32 bit word into a single precision floating point (i.e. interprets the various bits as sign, mantissa and exponent)"
   ]
  },
  {
   "cell_type": "code",
   "execution_count": 44,
   "metadata": {},
   "outputs": [
    {
     "name": "stdout",
     "output_type": "stream",
     "text": [
      "Numero casuale in binario: 11111100100011101011010011101010\n",
      "Segno: 1\n",
      "Esponente in binario: 11111001\n",
      "Esponente in decimale: 249\n",
      "Mantissa in binario: 00011101011010011101010\n",
      "Esponente reale: 122\n",
      "parte decimale: 1.1148960590362549\n",
      "risultato finale: 5.927804216245049e+36\n"
     ]
    }
   ],
   "source": [
    "import random\n",
    "# generiamo parola random:\n",
    "i = 0\n",
    "word = []\n",
    "while i<32: \n",
    "    word.append(random.randint(0,1))\n",
    "    i += 1\n",
    "wordstr = str('') # numero binario scritto come stringa\n",
    "for c in word: wordstr += str(c)\n",
    "print(\"Numero casuale in binario:\", wordstr)\n",
    "\n",
    "# trasformiamolo in float:\n",
    "# word = '00000011111000000000000000000000' # test con numero noto da parte di teoria\n",
    "wordlist = []\n",
    "for c in word: wordlist.append(c)   # creo lista degli 0 e 1\n",
    "#print(wordlist)\n",
    "print(\"Segno:\", wordlist[0])\n",
    "exp = ''\n",
    "for c in wordlist[1:9]: exp += str(c)\n",
    "print(\"Esponente in binario:\", exp)\n",
    "exp = int(exp, 2)  # vedo la stringa come un numero binario\n",
    "print(\"Esponente in decimale:\", exp)\n",
    "mantissa = ''\n",
    "for c in wordlist[9:32]: mantissa += str(c)\n",
    "print(\"Mantissa in binario:\", mantissa)\n",
    "\n",
    "# calcolo esponente in decimale:\n",
    "new_exp = exp - 127\n",
    "print(\"Esponente reale:\", new_exp)\n",
    "# calcolo mantissa\n",
    "decimali = 0.\n",
    "i = 1\n",
    "for c in mantissa:\n",
    "    if c == '1':\n",
    "        decimali += 2**(-i)\n",
    "    i+=1\n",
    "decimali += 1 # sommo l'unita\n",
    "print(\"parte decimale:\", decimali)\n",
    "\n",
    "# risultato:\n",
    "result = decimali*2**(new_exp)\n",
    "print(\"risultato finale:\", result)"
   ]
  },
  {
   "cell_type": "markdown",
   "metadata": {},
   "source": [
    "### 3\\.\n",
    "Write a program to determine the underflow and overflow limits (within a factor of 2) for python on your computer. \n",
    "\n",
    "**Tips**: define two variables inizialized to 1 and halve/double them enough time to exceed the under/over-flow limits  "
   ]
  },
  {
   "cell_type": "code",
   "execution_count": 59,
   "metadata": {},
   "outputs": [
    {
     "name": "stdout",
     "output_type": "stream",
     "text": [
      "Limite di overflow: 1024\n",
      "Massimo valore: 8.98846567431158e+307\n",
      "Limite di underflow (non e 1024 per via dei numeri subnormali): 1075\n",
      "Minimo valore: 5e-324\n"
     ]
    }
   ],
   "source": [
    "# OVERFLOW:\n",
    "big = 1.0     # numero da mandare a infinito\n",
    "last_big = 1  # variabile che salvera l'ultimo valore di big non infinito\n",
    "it = 0        # conto quante volte raddoppio 'big'\n",
    "while True:\n",
    "    last_big = big\n",
    "    big *= 2\n",
    "    it += 1\n",
    "    if big == float('inf'): \n",
    "        break     # esco dal ciclo quando big diventa infinito\n",
    "print(\"Limite di overflow:\", it)\n",
    "print(\"Massimo valore:\", last_big)\n",
    "\n",
    "# UNDERFLOW:\n",
    "little = 1.0\n",
    "last_little = 1   # variabile che salvera l'ultimo valore di little non zero\n",
    "it = 0            # conto quante volte dimezzo 'little'\n",
    "while little > 0:\n",
    "    last_little = little\n",
    "    little /= 2\n",
    "    it += 1\n",
    "print(\"Limite di underflow (non e 1024 per via dei numeri subnormali):\", it)\n",
    "print(\"Minimo valore:\", last_little)"
   ]
  },
  {
   "cell_type": "markdown",
   "metadata": {},
   "source": [
    "### 4\\.\n",
    "Write a program to determine the machine precision\n",
    "\n",
    "**Tips**: define a new variable by adding a smaller and smaller value (proceeding similarly to prob. 2) to an original variable and check the point where the two are the same "
   ]
  },
  {
   "cell_type": "code",
   "execution_count": 61,
   "metadata": {},
   "outputs": [
    {
     "name": "stdout",
     "output_type": "stream",
     "text": [
      "5e-324\n"
     ]
    }
   ],
   "source": [
    "eps = 1.\n",
    "last_eps = 1.     # variabile che salvera l'ultimo valore di epsilon non nullo\n",
    "while 0. != eps:\n",
    "    last_eps = eps\n",
    "    eps /= 2\n",
    "print(last_eps)"
   ]
  },
  {
   "cell_type": "markdown",
   "metadata": {},
   "source": [
    "## 5\\.\n",
    "Write a function that takes in input three parameters $a$, $b$ and $c$ and prints out the two solutions to the quadratic equation $ax^2+bx+c=0$ using the standard formula:\n",
    "$$\n",
    "x=\\frac{-b\\pm\\sqrt{b^2-4ac}}{2a}\n",
    "$$\n",
    "\n",
    "(a) use the program to compute the solution for $a=0.001$, $b=1000$ and $c=0.001$\n",
    "\n",
    "(b) re-express the standard solution formula by multiplying top and bottom by $-b\\mp\\sqrt{b^2-4ac}$ and again find the solution for $a=0.001$, $b=1000$ and $c=0.001$. How does it compare with what previously obtained? Why?\n",
    "\n",
    "(c) write a function that compute the roots of a quadratic equation accurately in all cases"
   ]
  },
  {
   "cell_type": "code",
   "execution_count": 85,
   "metadata": {},
   "outputs": [
    {
     "name": "stdout",
     "output_type": "stream",
     "text": [
      "Soluzioni del punto a: (-9.999894245993346e-07, -999999.999999)\n",
      "Soluzioni del punto b: (-1.000000000001e-06, -1000010.5755125057)\n",
      "Soluzioni del punto c: (-1.000000000001e-06, -1000010.5755125057)\n"
     ]
    }
   ],
   "source": [
    "import math\n",
    "\n",
    "# PUNTO A:\n",
    "def sol1(a,b,c):\n",
    "    discrim = b**2-4*a*c\n",
    "    if discrim < 0:\n",
    "        print(\"Non ci sono soluzioni\")\n",
    "        return None\n",
    "    elif discrim == 0:\n",
    "        x = -b/(2*a)\n",
    "        return x\n",
    "    else:\n",
    "        x1 = (-b + math.sqrt(b**2-4*a*c))/(2*a)\n",
    "        x2 = (-b - math.sqrt(b**2-4*a*c))/(2*a)\n",
    "        return x1, x2\n",
    "\n",
    "print (\"Soluzioni del punto a:\", sol1(0.001, 1000, 0.001) )\n",
    "\n",
    "# PUNTO B:\n",
    "def sol2(a,b,c):\n",
    "    discrim = b**2-4*a*c\n",
    "    if discrim < 0:\n",
    "        print(\"Non ci sono soluzioni\")\n",
    "        return None\n",
    "    elif discrim == 0:\n",
    "        x = -b/(2*a)\n",
    "        return x\n",
    "    else:\n",
    "        x1 = (4*a*c)/(2*a)/(-b - math.sqrt(b**2-4*a*c))  # MEMO: there is a problem with c = 0 in this case ?\n",
    "        x2 = (4*a*c)/(2*a)/(-b + math.sqrt(b**2-4*a*c))\n",
    "        return x1, x2\n",
    "\n",
    "print (\"Soluzioni del punto b:\", sol2(0.001, 1000, 0.001) )\n",
    "# we had a difference because fot this values we have an unstable algorithm (at numerator i basically had onli b2-b2 without a,c term)\n",
    "\n",
    "\n",
    "# PUNTO C:\n",
    "def solfin(a,b,c):\n",
    "    if c == 0:\n",
    "        return sol1(a,b,c)\n",
    "    if c != 0:\n",
    "        return sol2(a,b,c)\n",
    "print (\"Soluzioni del punto c:\", solfin(0.001, 1000, 0.001) )"
   ]
  },
  {
   "cell_type": "markdown",
   "metadata": {},
   "source": [
    "### 6\\. \n",
    "Write a program that implements the function $f(x)=x(x−1)$\n",
    "\n",
    "(a) Calculate the derivative of the function at the point $x = 1$ using the derivative definition:\n",
    "\n",
    "$$\n",
    "\\frac{{\\rm d}f}{{\\rm d}x} = \\lim_{\\delta\\to0} \\frac{f(x+\\delta)-f(x)}{\\delta}\n",
    "$$\n",
    "\n",
    "with $\\delta = 10^{−2}$. Calculate the true value of the same derivative analytically and compare with the answer your program gives. The two will not agree perfectly. Why not?\n",
    "\n",
    "(b) Repeat the calculation for $\\delta = 10^{−4}, 10^{−6}, 10^{−8}, 10^{−10}, 10^{−12}$ and $10^{−14}$. How does the accuracy scales with $\\delta$?"
   ]
  },
  {
   "cell_type": "code",
   "execution_count": 96,
   "metadata": {},
   "outputs": [
    {
     "name": "stdout",
     "output_type": "stream",
     "text": [
      "Derivata calcolata: 1.010000000000001\n",
      "Derivata corretta: 2\n",
      "1.0000999999998899\n",
      "1.0000009999177333\n",
      "1.0000000039225287\n",
      "1.000000082840371\n",
      "1.0000889005833413\n",
      "0.9992007221626509\n"
     ]
    }
   ],
   "source": [
    "def func(x):\n",
    "    return x*(x-1)\n",
    "def derivata(func, x, delta):\n",
    "    deriv = ( func(x+delta)-func(x) )/ delta\n",
    "    return deriv\n",
    "\n",
    "# PUNTO A:\n",
    "delta = 0.01\n",
    "x = 1\n",
    "der2 = derivata(func, x, delta)\n",
    "print(\"Derivata calcolata:\", der2)\n",
    "print(\"Derivata corretta:\", 2*x)\n",
    "\n",
    "# PUNTO B:\n",
    "print( derivata(func, x, 10**(-4) )  )\n",
    "print( derivata(func, x, 10**(-6) )  )\n",
    "print( derivata(func, x, 10**(-8) )  )\n",
    "print( derivata(func, x, 10**(-10) )  )\n",
    "print( derivata(func, x, 10**(-12) )  )\n",
    "print( derivata(func, x, 10**(-14) )  )"
   ]
  },
  {
   "cell_type": "markdown",
   "metadata": {},
   "source": [
    "7\\. Consider the integral of the semicircle of radius 1:\n",
    "$$\n",
    "I=\\int_{-1}^{1} \\sqrt(1-x^2) {\\rm d}x\n",
    "$$\n",
    "which it's known to be $I=\\frac{\\pi}{2}=1.57079632679...$.\n",
    "Alternatively we can use the Riemann definition of the integral:\n",
    "$$\n",
    "I=\\lim_{N\\to\\infty} \\sum_{k=1}^{N} h y_k \n",
    "$$\n",
    "\n",
    "with $h=2/N$ the width of each of the $N$ slices the domain is divided into and where\n",
    "$y_k$ is the value of the function at the $k-$th slice.\n",
    "\n",
    "(a) Write a programe to compute the integral with $N=100$. How does the result compares to the true value?\n",
    "\n",
    "(b) How much can $N$ be increased if the computation needs to be run in less than a second? What is the gain in running it for 1 minute? \n"
   ]
  },
  {
   "cell_type": "code",
   "execution_count": null,
   "metadata": {},
   "outputs": [],
   "source": []
  }
 ],
 "metadata": {
  "kernelspec": {
   "display_name": "Python 3 (ipykernel)",
   "language": "python",
   "name": "python3"
  },
  "language_info": {
   "codemirror_mode": {
    "name": "ipython",
    "version": 3
   },
   "file_extension": ".py",
   "mimetype": "text/x-python",
   "name": "python",
   "nbconvert_exporter": "python",
   "pygments_lexer": "ipython3",
   "version": "3.12.4"
  }
 },
 "nbformat": 4,
 "nbformat_minor": 4
}
