{
 "cells": [
  {
   "cell_type": "markdown",
   "metadata": {},
   "source": [
    "1. The MickeyMouse problem\n",
    "\n",
    "a) Write a program that prints the numbers from 1 to 100. But for multiples of 3 print `Mickey` instead of the corresponding number and for the multiples of 5 print `Mouse`. For numbers which are multiples of both three and five print `MickeyMouse`\n",
    "\n",
    "b) Put the result in a tuple and substitute `Mickey` with `Donald` and `Mouse` with `Duck`"
   ]
  },
  {
   "cell_type": "code",
   "execution_count": null,
   "metadata": {},
   "outputs": [],
   "source": [
    "# point a\n",
    "print(\"PUNTO A DELL ESERCIZIO:\")\n",
    "x = [0]\n",
    "for i in range(1, 100):\n",
    "    if i % 3 == 0 and i % 5 == 0:\n",
    "        x.append(\"MickeyMouse\")\n",
    "    elif i % 3 == 0:\n",
    "        x.append(\"Mickey\")\n",
    "    elif i % 5 == 0:\n",
    "        x.append(\"Mouse\")\n",
    "    else: \n",
    "        x.append(i)\n",
    "    print(x[i])\n",
    "    \n",
    "# point b\n",
    "print(\"PUNTO B DELL ESERCIZIO:\")\n",
    "for i in range(1, 100):\n",
    "    if x[i] == \"Mickey\": x[i] = \"Donald\"\n",
    "    if x[i] == \"Mouse\":  x[i] = \"Duck\"\n",
    "    print(x[i])"
   ]
  },
  {
   "cell_type": "markdown",
   "metadata": {},
   "source": [
    "2\\. The swap function\n",
    "\n",
    "Write a function that swap the values of two input variables x and y (whatever the type). Try to do that also without a temporary variable"
   ]
  },
  {
   "cell_type": "code",
   "execution_count": null,
   "metadata": {},
   "outputs": [],
   "source": [
    "# point a\n",
    "print(\"PUNTO A DELL ESERCIZIO:\")\n",
    "x = input(\"Inserire valore x: \")\n",
    "y = input(\"Inserire valore y: \")\n",
    "a = x\n",
    "x = y\n",
    "y = a\n",
    "print(\"Scambio avvenuto: x =\", x, \"y =\", y)\n",
    "\n",
    "# point b\n",
    "print(\"PUNTO B DELL ESERCIZIO:\")\n",
    "x = input(\"Inserire x: \")\n",
    "y = input(\"Inserire y: \")\n",
    "x , y = y , x\n",
    "print(\"Scambio avvenuto: x =\", x, \"y =\", y)"
   ]
  },
  {
   "cell_type": "markdown",
   "metadata": {},
   "source": [
    "3\\. Computing the distance\n",
    "\n",
    "Write a function that calculates and returns the euclidean distance between two points *u* and *v*, where *u* and *v* are both 2-tuples *(x,y)*. For example, if *u=(3,0)* and *v=(0,4)*, the function should return 5"
   ]
  },
  {
   "cell_type": "code",
   "execution_count": null,
   "metadata": {},
   "outputs": [],
   "source": [
    "import math\n",
    "x = []\n",
    "y = []\n",
    "x.append( float(input(\"Inserire valore x[0]: \")) )\n",
    "x.append( float(input(\"Inserire valore x[1]: \")) )\n",
    "y.append( float(input(\"Inserire valore y[0]: \")) )\n",
    "y.append( float(input(\"Inserire valore y[1]: \")) )\n",
    "dist = math.sqrt( (x[0]-y[0])**2 + (x[1]-y[1])**2)\n",
    "print(\"La distanza e:\", dist)"
   ]
  },
  {
   "cell_type": "markdown",
   "metadata": {},
   "source": [
    "4\\. Counting letters\n",
    "\n",
    "Write a program to calculate the number of times each character occurs in a given string *s*. Ignore differneces in capitalization"
   ]
  },
  {
   "cell_type": "code",
   "execution_count": null,
   "metadata": {},
   "outputs": [],
   "source": [
    "x = input(\"Inserire stringa: \")\n",
    "x = x.lower()\n",
    "char = input(\"Inserire carattere da contare all'interno: \")\n",
    "char = char.lower()\n",
    "i = 0\n",
    "for letter in x:\n",
    "    if letter == char:\n",
    "        i+=1\n",
    "print(i)"
   ]
  },
  {
   "cell_type": "code",
   "execution_count": null,
   "metadata": {},
   "outputs": [],
   "source": [
    "s=\"Write a program that prints the numbers from 1 to 100. \\\n",
    "But for multiples of three print Mickey instead of the number and for the multiples of five print Mouse. \\\n",
    "For numbers which are multiples of both three and five print MickeyMouse\""
   ]
  },
  {
   "cell_type": "markdown",
   "metadata": {},
   "source": [
    "5\\. Isolating the unique\n",
    "\n",
    "Write a function that determines and count the unique numbers in the list *l*"
   ]
  },
  {
   "cell_type": "code",
   "execution_count": null,
   "metadata": {},
   "outputs": [],
   "source": [
    "l = [36, 45, 58, 3, 74, 96, 64, 45, 31, 10, 24, 19, 33, 86, 99, 18, 63, 70, 85,\n",
    " 85, 63, 47, 56, 42, 70, 84, 88, 55, 20, 54, 8, 56, 51, 79, 81, 57, 37, 91,\n",
    " 1, 84, 84, 36, 66, 9, 89, 50, 42, 91, 50, 95, 90, 98, 39, 16, 82, 31, 92, 41,\n",
    " 45, 30, 66, 70, 34, 85, 94, 5, 3, 36, 72, 91, 84, 34, 87, 75, 53, 51, 20, 89, 51, 20]\n",
    "\n",
    "conteggi = [0]*100\n",
    "for i in range(len(l)):\n",
    "    conteggi[l[i]] += 1\n",
    "# stampo i numeri presenti una sola volta:\n",
    "print(\"NUMERI UNICI: \")\n",
    "for i in range(len(conteggi)):\n",
    "    if conteggi[i] == 1: print(l[i])"
   ]
  },
  {
   "cell_type": "markdown",
   "metadata": {},
   "source": [
    "6\\. Combination of functions\n",
    "\n",
    "Write two functions - one that returns the square of a number, and one that returns the cube. Now write a third function that returns the number raised to the 6th power using the two previous functions."
   ]
  },
  {
   "cell_type": "markdown",
   "metadata": {},
   "source": [
    "7\\. Cubes\n",
    "\n",
    "Create a list of the cubes of x for x in *[0, 10]* using:\n",
    "\n",
    "a) a for loop\n",
    "\n",
    "b) a list comprehension"
   ]
  },
  {
   "cell_type": "markdown",
   "metadata": {},
   "source": [
    "8\\. Nested list comprehension\n",
    "\n",
    "A Pythagorean triple is an integer solution to the Pythagorean theorem $a^2+b^2=c^2$. The first Pythagorean triple is (3,4,5). Find and put in a tuple all unique Pythagorean triples for the positive integers a, b and c less than 100."
   ]
  },
  {
   "cell_type": "markdown",
   "metadata": {},
   "source": [
    "9\\. Normalization\n",
    "\n",
    "Write a function that takes a tuple of numbers and returns it with the entries normalized to one"
   ]
  },
  {
   "cell_type": "code",
   "execution_count": null,
   "metadata": {},
   "outputs": [],
   "source": []
  }
 ],
 "metadata": {
  "kernelspec": {
   "display_name": "Python 3 (ipykernel)",
   "language": "python",
   "name": "python3"
  },
  "language_info": {
   "codemirror_mode": {
    "name": "ipython",
    "version": 3
   },
   "file_extension": ".py",
   "mimetype": "text/x-python",
   "name": "python",
   "nbconvert_exporter": "python",
   "pygments_lexer": "ipython3",
   "version": "3.12.4"
  }
 },
 "nbformat": 4,
 "nbformat_minor": 4
}
