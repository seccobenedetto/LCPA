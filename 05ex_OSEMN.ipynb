{
 "cells": [
  {
   "cell_type": "markdown",
   "metadata": {},
   "source": [
    "# OSEMN Exercises"
   ]
  },
  {
   "cell_type": "code",
   "execution_count": 1,
   "metadata": {},
   "outputs": [],
   "source": [
    "%matplotlib inline\n",
    "import pandas as pd\n",
    "import numpy as np"
   ]
  },
  {
   "cell_type": "markdown",
   "metadata": {},
   "source": [
    "### 1\\. \n",
    "Create a random list of number and then save it to a text file named \"simple_data.txt\""
   ]
  },
  {
   "cell_type": "code",
   "execution_count": 31,
   "metadata": {},
   "outputs": [
    {
     "name": "stdout",
     "output_type": "stream",
     "text": [
      "[6.86119404 5.06773296 1.72433246 3.07643498 8.35781668 1.47159411\n",
      " 1.95435897 0.21904451 2.29750536 8.20817512]\n"
     ]
    }
   ],
   "source": [
    "import numpy.random as npr\n",
    "\n",
    "arr = npr.rand(10)*10   # array di numeri casuali da 0 a 10\n",
    "arr = arr.T\n",
    "print(arr)\n",
    "\n",
    "# modo 1:\n",
    "np.savetxt(\"simple_data_01.txt\", arr)\n",
    "\n",
    "# modo 2:\n",
    "with open(\"simple_data.txt\", 'w') as fin:\n",
    "    for i in arr:\n",
    "        fin.write(str(i) + '\\n')"
   ]
  },
  {
   "cell_type": "markdown",
   "metadata": {},
   "source": [
    "### 2\\. \n",
    "Create a random matrix of 5x5 and then save it to a text file named \"data.txt\""
   ]
  },
  {
   "cell_type": "code",
   "execution_count": 41,
   "metadata": {},
   "outputs": [
    {
     "name": "stdout",
     "output_type": "stream",
     "text": [
      "[[0.26725316 0.70459998 0.77566095 0.13228236 0.83395699]\n",
      " [0.32406585 0.12912702 0.22742923 0.11800206 0.94578397]\n",
      " [0.36522023 0.2307668  0.05314463 0.89188478 0.9587138 ]\n",
      " [0.7069211  0.94597015 0.55099567 0.92578318 0.39356539]\n",
      " [0.22638508 0.02304337 0.78597597 0.70289775 0.92470272]]\n",
      "<class 'tuple'>\n"
     ]
    }
   ],
   "source": [
    "mat = npr.rand(5,5)\n",
    "print(mat)\n",
    "print(type(mat.shape))\n",
    "\n",
    "np.savetxt(\"mat_data.txt\", mat)"
   ]
  },
  {
   "cell_type": "markdown",
   "metadata": {},
   "source": [
    "### 3\\. \n",
    "Load the saved txt file of point 2 and convert it to a csv file (by hand)"
   ]
  },
  {
   "cell_type": "code",
   "execution_count": 45,
   "metadata": {},
   "outputs": [],
   "source": [
    "# modo 1:\n",
    "with open(\"mat_data.csv\", \"w\") as fin:\n",
    "    for i in range(mat.shape[0]):\n",
    "        for j in range(mat.shape[1]):\n",
    "            fin.write(str(mat[i,j]) + \",\")\n",
    "        fin.write(\"\\n\")\n",
    "\n",
    "# modo 2:\n",
    "import csv\n",
    "with open(\"prova.csv\", \"w\") as fout:\n",
    "    writer = csv.writer(fout)\n",
    "    writer.writerow(mat)  # Scrive tutti gli elementi in una singola riga\n",
    "\n",
    "# modo 3:\n",
    "np.savetxt(\"prova_2.csv\", mat, delimiter=\",\")"
   ]
  },
  {
   "cell_type": "markdown",
   "metadata": {},
   "source": [
    "### 4\\. \n",
    "Load the binary file named *credit_card.dat* and convert the data into the real credit-card number.\n",
    "Each line correspond to a credit card number.\n",
    "Each character is composed by 6 bit (even the space) and the last 4 bit are just a padding\n",
    "\n",
    "**hint**: use the `chr()` function to convert a number to a char"
   ]
  },
  {
   "cell_type": "code",
   "execution_count": 7,
   "metadata": {},
   "outputs": [
    {
     "name": "stdout",
     "output_type": "stream",
     "text": [
      "['110111', '100111', '001011', '000110', '001101', '111100', '110111', '100011', '011111', '100110', '101100', '011010', '110001', '101001', '001111', '000110', '111100', '011100', '110100']\n",
      "['\\U0001ae1f', '𘜏', 'ϳ', 'n', 'э', '𛇼', '\\U0001ae1f', '𘚫', '⭧', '𘜎', '𘫬', '⬂', '\\U0001adb1', '𘪉', 'ї', 'n', '𛇼', '⭜', '\\U0001ae14']\n",
      "𚸟\n"
     ]
    }
   ],
   "source": [
    "with open(\"credit_card.dat\", \"r\") as f:\n",
    "    # print(f.read())\n",
    "    credit_card = []\n",
    "    word = f.readline()\n",
    "    # print(type(word))\n",
    "    max = len(word)   # len = 119 \n",
    "    numeri_su_riga = max // 6\n",
    "    for i in range(numeri_su_riga):   \n",
    "        credit_card.append( str(word[i:i+6]) )\n",
    "        word = f.readline()\n",
    "print(credit_card)\n",
    "\n",
    "# list = []\n",
    "# for i in range(len(credit_card)):\n",
    "#     list.append (  int(credit_card[i],2)  )\n",
    "# print(list)\n",
    "\n",
    "list = []\n",
    "for i in range(len(credit_card)):\n",
    "    list.append ( chr( int(credit_card[i] ) ))\n",
    "print(list)\n",
    "\n",
    "print(chr(110111))\n"
   ]
  },
  {
   "cell_type": "markdown",
   "metadata": {},
   "source": [
    "5\\. Load the file \"user_data.json\", filter the data by the \"CreditCardType\" field equals to \"American Express\". Than save the data a to CSV."
   ]
  },
  {
   "cell_type": "markdown",
   "metadata": {},
   "source": [
    "6\\. Load the file from this url: [https://www.dropbox.com/s/7u3lm737ogbqsg8/mushrooms_categorized.csv?dl=1](https://www.dropbox.com/s/7u3lm737ogbqsg8/mushrooms_categorized.csv?dl=1) with Pandas. \n",
    "+ Explore the data (see the info of the data)\n",
    "+ Draw the istogram of the 'class' field. Decribe wath yuou see\n"
   ]
  },
  {
   "cell_type": "markdown",
   "metadata": {},
   "source": [
    "7\\. Load the remote file [https://www.dropbox.com/s/vkl89yce7xjdq4n/regression_generated.csv?dl=1](https://www.dropbox.com/s/vkl89yce7xjdq4n/regression_generated.csv?dl=1) with Pandas and plot a scatter plot all possible combination of the following fields:\n",
    "    \n",
    "  + features_1\n",
    "  + features_2\n",
    "  + features_3"
   ]
  },
  {
   "cell_type": "markdown",
   "metadata": {},
   "source": [
    "8\\. Load the same file of point 6, and convert the file to json with Pandas."
   ]
  }
 ],
 "metadata": {
  "kernelspec": {
   "display_name": "Python 3 (ipykernel)",
   "language": "python",
   "name": "python3"
  },
  "language_info": {
   "codemirror_mode": {
    "name": "ipython",
    "version": 3
   },
   "file_extension": ".py",
   "mimetype": "text/x-python",
   "name": "python",
   "nbconvert_exporter": "python",
   "pygments_lexer": "ipython3",
   "version": "3.12.4"
  }
 },
 "nbformat": 4,
 "nbformat_minor": 4
}
